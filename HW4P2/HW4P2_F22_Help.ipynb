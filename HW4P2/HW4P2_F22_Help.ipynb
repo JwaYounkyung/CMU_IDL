{
  "cells": [
    {
      "cell_type": "markdown",
      "metadata": {
        "id": "I8a_cZqr-UpV"
      },
      "source": [
        "# HW4P2: Attention-based Speech Recognition\n",
        "\n",
        "Welcome to the final assignment in 11785. In this HW, you will work on building a speech recognition system with attention. <br> <br>\n",
        "\n",
        "HW Writeup: https://piazza.com/class_profile/get_resource/l37uyxe87cq5xn/lam1lcjjj0314e <br>\n",
        "Kaggle competition link: https://www.kaggle.com/competitions/11-785-f22-hw4p2/ <br>\n",
        "LAS Paper: https://arxiv.org/pdf/1508.01211.pdf <br>\n",
        "Attention is all you need:https://arxiv.org/pdf/1706.03762.pdf"
      ]
    },
    {
      "cell_type": "markdown",
      "metadata": {
        "id": "Vlev_Tvq_bRz"
      },
      "source": [
        "# Initial Set-up"
      ]
    },
    {
      "cell_type": "code",
      "execution_count": 100,
      "metadata": {
        "colab": {
          "base_uri": "https://localhost:8080/"
        },
        "id": "0pueIzbxUwyY",
        "outputId": "5b31adee-48bb-4e97-c444-4f4c4fe4d3a7"
      },
      "outputs": [
        {
          "name": "stdout",
          "output_type": "stream",
          "text": [
            "Wed Dec 28 20:56:07 2022       \n",
            "+-----------------------------------------------------------------------------+\n",
            "| NVIDIA-SMI 460.32.03    Driver Version: 460.32.03    CUDA Version: 11.2     |\n",
            "|-------------------------------+----------------------+----------------------+\n",
            "| GPU  Name        Persistence-M| Bus-Id        Disp.A | Volatile Uncorr. ECC |\n",
            "| Fan  Temp  Perf  Pwr:Usage/Cap|         Memory-Usage | GPU-Util  Compute M. |\n",
            "|                               |                      |               MIG M. |\n",
            "|===============================+======================+======================|\n",
            "|   0  A100-SXM4-40GB      Off  | 00000000:00:04.0 Off |                    0 |\n",
            "| N/A   32C    P0    48W / 400W |  22316MiB / 40536MiB |      0%      Default |\n",
            "|                               |                      |             Disabled |\n",
            "+-------------------------------+----------------------+----------------------+\n",
            "                                                                               \n",
            "+-----------------------------------------------------------------------------+\n",
            "| Processes:                                                                  |\n",
            "|  GPU   GI   CI        PID   Type   Process name                  GPU Memory |\n",
            "|        ID   ID                                                   Usage      |\n",
            "|=============================================================================|\n",
            "+-----------------------------------------------------------------------------+\n"
          ]
        }
      ],
      "source": [
        "!nvidia-smi"
      ]
    },
    {
      "cell_type": "code",
      "execution_count": 101,
      "metadata": {
        "id": "tepaid_TDwWt"
      },
      "outputs": [],
      "source": [
        "# Install some required libraries\n",
        "# Feel free to add more if you want\n",
        "!pip install -q python-levenshtein torchsummaryX wandb"
      ]
    },
    {
      "cell_type": "markdown",
      "metadata": {
        "id": "lr4xGzRU-KZz"
      },
      "source": [
        "# Import"
      ]
    },
    {
      "cell_type": "code",
      "execution_count": null,
      "metadata": {
        "colab": {
          "base_uri": "https://localhost:8080/"
        },
        "id": "ZectxKF3XEVV",
        "outputId": "ea2e8125-c048-42cc-9542-2db18d64b736"
      },
      "outputs": [
        {
          "name": "stdout",
          "output_type": "stream",
          "text": [
            "Device:  cuda\n"
          ]
        }
      ],
      "source": [
        "import os\n",
        "import pandas as pd\n",
        "import numpy as np\n",
        "import Levenshtein\n",
        "\n",
        "import torch\n",
        "import torchaudio\n",
        "\n",
        "import seaborn as sns\n",
        "import matplotlib.pyplot as plt\n",
        "\n",
        "from tqdm.notebook import tqdm\n",
        "import gc\n",
        "from torchsummaryX import summary\n",
        "import wandb\n",
        "from glob import glob\n",
        "\n",
        "DEVICE = torch.device(\"cuda\" if torch.cuda.is_available() else \"cpu\")\n",
        "print(\"Device: \", DEVICE)"
      ]
    },
    {
      "cell_type": "code",
      "execution_count": null,
      "metadata": {
        "colab": {
          "base_uri": "https://localhost:8080/"
        },
        "id": "ZaSpyawP6nk-",
        "outputId": "a3bb558e-5505-48af-bcdf-3c5f87cdb7af"
      },
      "outputs": [
        {
          "name": "stdout",
          "output_type": "stream",
          "text": [
            "Device:  cuda\n"
          ]
        }
      ],
      "source": [
        "import torch\n",
        "import random\n",
        "import torch.nn as nn\n",
        "import torch.nn.functional as F\n",
        "import torchaudio\n",
        "from torch.utils.data import Dataset, DataLoader\n",
        "from torch.nn.utils.rnn import pad_sequence, pack_padded_sequence, pad_packed_sequence\n",
        "\n",
        "import torchaudio.transforms as tat\n",
        "\n",
        "from sklearn.metrics import accuracy_score\n",
        "import gc\n",
        "\n",
        "import zipfile\n",
        "import datetime\n",
        "\n",
        "# imports for decoding and distance calculation\n",
        "# import ctcdecode\n",
        "# import Levenshtein\n",
        "# from ctcdecode import CTCBeamDecoder\n",
        "\n",
        "import warnings\n",
        "warnings.filterwarnings('ignore')\n",
        "\n",
        "device = 'cuda' if torch.cuda.is_available() else 'cpu'\n",
        "print(\"Device: \", device)"
      ]
    },
    {
      "cell_type": "code",
      "execution_count": null,
      "metadata": {
        "colab": {
          "base_uri": "https://localhost:8080/"
        },
        "id": "pdfU2ORu1Oxo",
        "outputId": "e2d35c17-bb93-4da4-a178-f6f5ad6372da"
      },
      "outputs": [
        {
          "name": "stdout",
          "output_type": "stream",
          "text": [
            "Mounted at /content/drive\n"
          ]
        }
      ],
      "source": [
        "from google.colab import drive\n",
        "drive.mount('/content/drive')"
      ]
    },
    {
      "cell_type": "markdown",
      "metadata": {
        "id": "OALQCI0EDCwh"
      },
      "source": [
        "# Config"
      ]
    },
    {
      "cell_type": "code",
      "execution_count": 126,
      "metadata": {
        "id": "AqDuibMCP345"
      },
      "outputs": [],
      "source": [
        "# Global config dict. Feel free to add or change if you want.\n",
        "config = {\n",
        "    'batch_size': 96,\n",
        "    'epochs': 70,\n",
        "    'lr': 1e-3\n",
        "}"
      ]
    },
    {
      "cell_type": "markdown",
      "metadata": {
        "id": "X7J4sY1OW9Pr"
      },
      "source": [
        "# Toy Data Setup"
      ]
    },
    {
      "cell_type": "markdown",
      "metadata": {
        "id": "JTsQB-pvRLLs"
      },
      "source": [
        "The toy dataset is very essential for you in this HW. The model which you will be building is complicated and you first need to make sure that it runs on the toy dataset. <br>\n",
        "In other words, you need convergence - the attention diagonal. Take a look at the write-up for this. <br>\n",
        "We have given you the following code to download the toy data and load it. You can use it the way it is. But be careful, the transcripts are different from the original data from kaggle. The toy dataset has phonemes but the actual data has characters."
      ]
    },
    {
      "cell_type": "code",
      "execution_count": null,
      "metadata": {
        "colab": {
          "base_uri": "https://localhost:8080/"
        },
        "id": "Des4AMIaW4E8",
        "outputId": "8737073e-d303-4307-e2d6-a08cee03f1e5"
      },
      "outputs": [
        {
          "name": "stdout",
          "output_type": "stream",
          "text": [
            "f0176_mfccs_train.n 100%[===================>] 279.30M  10.2MB/s    in 31s     \n",
            "f0176_mfccs_dev.npy 100%[===================>]  27.93M  15.2MB/s    in 1.8s    \n",
            "f0176_hw3p2_train.n 100%[===================>]   7.02M  --.-KB/s    in 0.09s   \n",
            "f0176_hw3p2_dev.npy 100%[===================>] 718.88K  --.-KB/s    in 0.009s  \n"
          ]
        }
      ],
      "source": [
        "!wget -q https://cmu.box.com/shared/static/wok08c2z2dp4clufhy79c5ee6jx3pyj9 --content-disposition --show-progress\n",
        "!wget -q https://cmu.box.com/shared/static/zctr6mvh7npfn01forli8n45duhp2g85 --content-disposition --show-progress\n",
        "!wget -q https://cmu.box.com/shared/static/m2oaek69145ljeu6srtbbb7k0ip6yfup --content-disposition --show-progress\n",
        "!wget -q https://cmu.box.com/shared/static/owrjy0tqra3v7zq2ru7mocy2djskydy9 --content-disposition --show-progress"
      ]
    },
    {
      "cell_type": "code",
      "execution_count": null,
      "metadata": {
        "colab": {
          "base_uri": "https://localhost:8080/",
          "height": 364
        },
        "id": "2fLveDeiXCsb",
        "outputId": "8861430f-4a3b-42f3-cf2c-c737b4188eee"
      },
      "outputs": [
        {
          "ename": "ValueError",
          "evalue": "ignored",
          "output_type": "error",
          "traceback": [
            "\u001b[0;31m---------------------------------------------------------------------------\u001b[0m",
            "\u001b[0;31mValueError\u001b[0m                                Traceback (most recent call last)",
            "\u001b[0;32m<ipython-input-61-6c3ed33678f5>\u001b[0m in \u001b[0;36m<module>\u001b[0;34m\u001b[0m\n\u001b[1;32m      1\u001b[0m \u001b[0;31m# Load the toy dataset\u001b[0m\u001b[0;34m\u001b[0m\u001b[0;34m\u001b[0m\u001b[0;34m\u001b[0m\u001b[0m\n\u001b[0;32m----> 2\u001b[0;31m \u001b[0mX_train\u001b[0m \u001b[0;34m=\u001b[0m \u001b[0mnp\u001b[0m\u001b[0;34m.\u001b[0m\u001b[0mload\u001b[0m\u001b[0;34m(\u001b[0m\u001b[0;34m\"f0176_mfccs_train.npy\"\u001b[0m\u001b[0;34m)\u001b[0m\u001b[0;34m\u001b[0m\u001b[0;34m\u001b[0m\u001b[0m\n\u001b[0m\u001b[1;32m      3\u001b[0m \u001b[0mX_valid\u001b[0m \u001b[0;34m=\u001b[0m \u001b[0mnp\u001b[0m\u001b[0;34m.\u001b[0m\u001b[0mload\u001b[0m\u001b[0;34m(\u001b[0m\u001b[0;34m\"f0176_mfccs_dev.npy\"\u001b[0m\u001b[0;34m)\u001b[0m\u001b[0;34m\u001b[0m\u001b[0;34m\u001b[0m\u001b[0m\n\u001b[1;32m      4\u001b[0m \u001b[0mY_train\u001b[0m \u001b[0;34m=\u001b[0m \u001b[0mnp\u001b[0m\u001b[0;34m.\u001b[0m\u001b[0mload\u001b[0m\u001b[0;34m(\u001b[0m\u001b[0;34m\"f0176_hw3p2_train.npy\"\u001b[0m\u001b[0;34m)\u001b[0m\u001b[0;34m\u001b[0m\u001b[0;34m\u001b[0m\u001b[0m\n\u001b[1;32m      5\u001b[0m \u001b[0mY_valid\u001b[0m \u001b[0;34m=\u001b[0m \u001b[0mnp\u001b[0m\u001b[0;34m.\u001b[0m\u001b[0mload\u001b[0m\u001b[0;34m(\u001b[0m\u001b[0;34m\"f0176_hw3p2_dev.npy\"\u001b[0m\u001b[0;34m)\u001b[0m\u001b[0;34m\u001b[0m\u001b[0;34m\u001b[0m\u001b[0m\n",
            "\u001b[0;32m/usr/local/lib/python3.8/dist-packages/numpy/lib/npyio.py\u001b[0m in \u001b[0;36mload\u001b[0;34m(file, mmap_mode, allow_pickle, fix_imports, encoding)\u001b[0m\n\u001b[1;32m    438\u001b[0m                 \u001b[0;32mreturn\u001b[0m \u001b[0mformat\u001b[0m\u001b[0;34m.\u001b[0m\u001b[0mopen_memmap\u001b[0m\u001b[0;34m(\u001b[0m\u001b[0mfile\u001b[0m\u001b[0;34m,\u001b[0m \u001b[0mmode\u001b[0m\u001b[0;34m=\u001b[0m\u001b[0mmmap_mode\u001b[0m\u001b[0;34m)\u001b[0m\u001b[0;34m\u001b[0m\u001b[0;34m\u001b[0m\u001b[0m\n\u001b[1;32m    439\u001b[0m             \u001b[0;32melse\u001b[0m\u001b[0;34m:\u001b[0m\u001b[0;34m\u001b[0m\u001b[0;34m\u001b[0m\u001b[0m\n\u001b[0;32m--> 440\u001b[0;31m                 return format.read_array(fid, allow_pickle=allow_pickle,\n\u001b[0m\u001b[1;32m    441\u001b[0m                                          pickle_kwargs=pickle_kwargs)\n\u001b[1;32m    442\u001b[0m         \u001b[0;32melse\u001b[0m\u001b[0;34m:\u001b[0m\u001b[0;34m\u001b[0m\u001b[0;34m\u001b[0m\u001b[0m\n",
            "\u001b[0;32m/usr/local/lib/python3.8/dist-packages/numpy/lib/format.py\u001b[0m in \u001b[0;36mread_array\u001b[0;34m(fp, allow_pickle, pickle_kwargs)\u001b[0m\n\u001b[1;32m    785\u001b[0m             \u001b[0marray\u001b[0m \u001b[0;34m=\u001b[0m \u001b[0marray\u001b[0m\u001b[0;34m.\u001b[0m\u001b[0mtranspose\u001b[0m\u001b[0;34m(\u001b[0m\u001b[0;34m)\u001b[0m\u001b[0;34m\u001b[0m\u001b[0;34m\u001b[0m\u001b[0m\n\u001b[1;32m    786\u001b[0m         \u001b[0;32melse\u001b[0m\u001b[0;34m:\u001b[0m\u001b[0;34m\u001b[0m\u001b[0;34m\u001b[0m\u001b[0m\n\u001b[0;32m--> 787\u001b[0;31m             \u001b[0marray\u001b[0m\u001b[0;34m.\u001b[0m\u001b[0mshape\u001b[0m \u001b[0;34m=\u001b[0m \u001b[0mshape\u001b[0m\u001b[0;34m\u001b[0m\u001b[0;34m\u001b[0m\u001b[0m\n\u001b[0m\u001b[1;32m    788\u001b[0m \u001b[0;34m\u001b[0m\u001b[0m\n\u001b[1;32m    789\u001b[0m     \u001b[0;32mreturn\u001b[0m \u001b[0marray\u001b[0m\u001b[0;34m\u001b[0m\u001b[0;34m\u001b[0m\u001b[0m\n",
            "\u001b[0;31mValueError\u001b[0m: cannot reshape array of size 3145680 into shape (16000,176,26)"
          ]
        }
      ],
      "source": [
        "# Load the toy dataset\n",
        "X_train = np.load(\"f0176_mfccs_train.npy\")\n",
        "X_valid = np.load(\"f0176_mfccs_dev.npy\")\n",
        "Y_train = np.load(\"f0176_hw3p2_train.npy\")\n",
        "Y_valid = np.load(\"f0176_hw3p2_dev.npy\")\n",
        "\n",
        "# This is how you actually need to find out the different trancripts in a dataset. \n",
        "# Can you think whats going on here? Why are we using a np.unique?\n",
        "VOCAB_MAP           = dict(zip(np.unique(Y_valid), range(len(np.unique(Y_valid))))) \n",
        "VOCAB_MAP[\"[PAD]\"]  = len(VOCAB_MAP)\n",
        "VOCAB               = list(VOCAB_MAP.keys())\n",
        "\n",
        "SOS_TOKEN = VOCAB_MAP[\"[SOS]\"]\n",
        "EOS_TOKEN = VOCAB_MAP[\"[EOS]\"]\n",
        "PAD_TOKEN = VOCAB_MAP[\"[PAD]\"]\n",
        "\n",
        "Y_train = [np.array([VOCAB_MAP[p] for p in seq]) for seq in Y_train]\n",
        "Y_valid = [np.array([VOCAB_MAP[p] for p in seq]) for seq in Y_valid]"
      ]
    },
    {
      "cell_type": "code",
      "execution_count": null,
      "metadata": {
        "id": "iNjjsFqpbocR"
      },
      "outputs": [],
      "source": [
        "# Dataset class for the Toy dataset\n",
        "class ToyDataset(torch.utils.data.Dataset):\n",
        "\n",
        "    def __init__(self, partition):\n",
        "\n",
        "        if partition == \"train\":\n",
        "            self.mfccs = X_train[:, :, :15]\n",
        "            self.transcripts = Y_train\n",
        "\n",
        "        elif partition == \"valid\":\n",
        "            self.mfccs = X_valid[:, :, :15]\n",
        "            self.transcripts = Y_valid\n",
        "\n",
        "        assert len(self.mfccs) == len(self.transcripts)\n",
        "\n",
        "        self.length = len(self.mfccs)\n",
        "\n",
        "    def __len__(self):\n",
        "\n",
        "        return self.length\n",
        "\n",
        "    def __getitem__(self, i):\n",
        "\n",
        "        x = torch.tensor(self.mfccs[i])\n",
        "        y = torch.tensor(self.transcripts[i])\n",
        "\n",
        "        return x, y\n",
        "\n",
        "    def collate_fn(self, batch):\n",
        "\n",
        "        x_batch, y_batch = list(zip(*batch))\n",
        "\n",
        "        x_lens      = [x.shape[0] for x in x_batch] \n",
        "        y_lens      = [y.shape[0] for y in y_batch] \n",
        "\n",
        "        x_batch_pad = torch.nn.utils.rnn.pad_sequence(x_batch, batch_first=True, padding_value= EOS_TOKEN)\n",
        "        y_batch_pad = torch.nn.utils.rnn.pad_sequence(y_batch, batch_first=True, padding_value= EOS_TOKEN) \n",
        "        \n",
        "        return x_batch_pad, y_batch_pad, torch.tensor(x_lens), torch.tensor(y_lens)"
      ]
    },
    {
      "cell_type": "markdown",
      "metadata": {
        "id": "YWRjucnUdbQ1"
      },
      "source": [
        "# Kaggle Data"
      ]
    },
    {
      "cell_type": "code",
      "execution_count": null,
      "metadata": {
        "colab": {
          "base_uri": "https://localhost:8080/"
        },
        "id": "fStTuAQ6XAuD",
        "outputId": "ae26cb53-f9c2-46bd-b42e-f0de3cc3861e"
      },
      "outputs": [
        {
          "name": "stdout",
          "output_type": "stream",
          "text": [
            "Looking in indexes: https://pypi.org/simple, https://us-python.pkg.dev/colab-wheels/public/simple/\n",
            "Collecting kaggle==1.5.8\n",
            "  Downloading kaggle-1.5.8.tar.gz (59 kB)\n",
            "\u001b[?25l\r\u001b[K     |█████▌                          | 10 kB 34.5 MB/s eta 0:00:01\r\u001b[K     |███████████                     | 20 kB 15.7 MB/s eta 0:00:01\r\u001b[K     |████████████████▋               | 30 kB 10.0 MB/s eta 0:00:01\r\u001b[K     |██████████████████████▏         | 40 kB 5.8 MB/s eta 0:00:01\r\u001b[K     |███████████████████████████▊    | 51 kB 7.1 MB/s eta 0:00:01\r\u001b[K     |████████████████████████████████| 59 kB 3.8 MB/s \n",
            "\u001b[?25hBuilding wheels for collected packages: kaggle\n",
            "  Building wheel for kaggle (setup.py) ... \u001b[?25l\u001b[?25hdone\n",
            "  Created wheel for kaggle: filename=kaggle-1.5.8-py3-none-any.whl size=73274 sha256=464567ac0a3ba129504c6b5d55167aae53469556d72b92a5f963b9260b21f9df\n",
            "  Stored in directory: /root/.cache/pip/wheels/f3/67/7b/a6d668747974998471d29b230e7221dd01330ac34faebe4af4\n",
            "Successfully built kaggle\n",
            "Installing collected packages: kaggle\n",
            "  Attempting uninstall: kaggle\n",
            "    Found existing installation: kaggle 1.5.12\n",
            "    Uninstalling kaggle-1.5.12:\n",
            "      Successfully uninstalled kaggle-1.5.12\n",
            "Successfully installed kaggle-1.5.8\n"
          ]
        }
      ],
      "source": [
        "# TODO: Use the same Kaggle code from HW1P2, HW2P2, HW3P2\n",
        "!pip install --upgrade --force-reinstall --no-deps kaggle==1.5.8\n",
        "!mkdir /root/.kaggle/\n",
        "\n",
        "with open(\"/root/.kaggle/kaggle.json\", \"w+\") as f:\n",
        "    f.write('{\"username\":\"whchoihw\",\"key\":\"47096e661519dd97c4033097910a6d09\"}') # TODO: Put your kaggle username & key here\n",
        "\n",
        "!chmod 600 /root/.kaggle/kaggle.json"
      ]
    },
    {
      "cell_type": "code",
      "execution_count": null,
      "metadata": {
        "colab": {
          "base_uri": "https://localhost:8080/"
        },
        "id": "nR74ooCSa664",
        "outputId": "c38b4119-92e0-4a3c-a905-1643aad92529"
      },
      "outputs": [
        {
          "name": "stdout",
          "output_type": "stream",
          "text": [
            "Downloading 11-785-f22-hw4p2.zip to /content\n",
            "100% 2.08G/2.09G [00:20<00:00, 171MB/s]\n",
            "100% 2.09G/2.09G [00:20<00:00, 110MB/s]\n"
          ]
        }
      ],
      "source": [
        "# Download the data\n",
        "!kaggle competitions download -c 11-785-f22-hw4p2\n",
        "!mkdir '/content/data'\n",
        "\n",
        "!unzip -qo '11-785-f22-hw4p2.zip' -d '/content/data'"
      ]
    },
    {
      "cell_type": "markdown",
      "metadata": {
        "id": "i5ioyn6ldQB9"
      },
      "source": [
        "# Dataset Class"
      ]
    },
    {
      "cell_type": "code",
      "execution_count": null,
      "metadata": {
        "id": "YHix8UvpBWh7"
      },
      "outputs": [],
      "source": [
        "# These are the various characters in the transcripts of the datasetW\n",
        "VOCAB = ['<sos>',   \n",
        "         'A',   'B',    'C',    'D',    \n",
        "         'E',   'F',    'G',    'H',    \n",
        "         'I',   'J',    'K',    'L',       \n",
        "         'M',   'N',    'O',    'P',    \n",
        "         'Q',   'R',    'S',    'T', \n",
        "         'U',   'V',    'W',    'X', \n",
        "         'Y',   'Z',    \"'\",    ' ', \n",
        "         '<eos>']\n",
        "\n",
        "VOCAB_MAP = {VOCAB[i]:i for i in range(0, len(VOCAB))}\n",
        "\n",
        "SOS_TOKEN = VOCAB_MAP[\"<sos>\"]\n",
        "EOS_TOKEN = VOCAB_MAP[\"<eos>\"]"
      ]
    },
    {
      "cell_type": "code",
      "execution_count": null,
      "metadata": {
        "id": "8SndiVRVqBMa"
      },
      "outputs": [],
      "source": [
        "# TODO: Create a dataset class which is exactly the same as HW3P2. You are free to reuse it. \n",
        "# The only change is that the transcript mapping is different for this HW.\n",
        "# Note: We also want to retain SOS and EOS tokens in the transcript this time.\n",
        "class AudioDataset(torch.utils.data.Dataset):\n",
        "\n",
        "    # For this homework, we give you full flexibility to design your data set class.\n",
        "    # Hint: The data from HW1 is very similar to this HW\n",
        "\n",
        "    #TODO\n",
        "    def __init__(self, root, partition=\"\", transforms=[]): \n",
        "        '''\n",
        "        Initializes the dataset.\n",
        "\n",
        "        INPUTS: What inputs do you need here?\n",
        "        '''\n",
        "\n",
        "        # Load the directory and all files in them\n",
        "\n",
        "        self.mfcc_dir = root + partition + '/mfcc'\n",
        "        self.transcript_dir = root + partition + '/transcript/raw'\n",
        "        \n",
        "        idx = int(len(os.listdir(self.mfcc_dir))*1)\n",
        "        self.mfcc_files = sorted(os.listdir(self.mfcc_dir))[:idx]\n",
        "        print(len(self.mfcc_files))\n",
        "        self.transcript_files = sorted(os.listdir(self.transcript_dir))[:idx]\n",
        "\n",
        "\n",
        "        self.mfcc = [np.load(self.mfcc_dir+'/'+file) for file in self.mfcc_files]\n",
        "        self.length = len(self.mfcc)\n",
        "        self.VOCAB_MAP = VOCAB_MAP\n",
        "\n",
        "        self.transcript_before = [np.load(self.transcript_dir+'/'+file) for file in self.transcript_files]\n",
        "\n",
        "        self.transcript = []\n",
        "        for t in self.transcript_before:\n",
        "          self.transcript.append([self.VOCAB_MAP[p] for p in t])\n",
        "\n",
        "        self.transforms = transforms\n",
        "        '''\n",
        "        You may decide to do this in __getitem__ if you wish.\n",
        "        However, doing this here will make the __init__ function take the load of\n",
        "        loading the data, and shift it away from training.\n",
        "        '''\n",
        "       \n",
        "\n",
        "    def __len__(self):\n",
        "        \n",
        "        '''\n",
        "        TODO: What do we return here?\n",
        "        '''\n",
        "        return self.length\n",
        "\n",
        "    def __getitem__(self, ind):\n",
        "        '''\n",
        "        TODO: RETURN THE MFCC COEFFICIENTS AND ITS CORRESPONDING LABELS\n",
        "\n",
        "        If you didn't do the loading and processing of the data in __init__,\n",
        "        do that here.\n",
        "\n",
        "        Once done, return a tuple of features and labels.\n",
        "        '''\n",
        "        \n",
        "        # raise NotImplemented\n",
        "\n",
        "        mfcc = torch.FloatTensor(self.mfcc[ind]) # TODO\n",
        "        mfcc = (mfcc - mfcc.mean(axis=0))/mfcc.std(axis=0)\n",
        "\n",
        "        transcript = torch.LongTensor(self.transcript[ind])\n",
        "\n",
        "        return mfcc, transcript\n",
        "\n",
        "\n",
        "    def collate_fn(self,batch):\n",
        "        '''\n",
        "        TODO:\n",
        "        1.  Extract the features and labels from 'batch'\n",
        "        2.  We will additionally need to pad both features and labels,\n",
        "            look at pytorch's docs for pad_sequence\n",
        "        3.  This is a good place to perform transforms, if you so wish. \n",
        "            Performing them on batches will speed the process up a bit.\n",
        "        4.  Return batch of features, labels, lenghts of features, \n",
        "            and lengths of labels.\n",
        "        '''\n",
        "        # batches\n",
        "        batch_mfcc = [x for x,y in batch]\n",
        "        batch_transcript = [y for x,y in batch]\n",
        "\n",
        "\n",
        "        # HINT: CHECK OUT -> pad_sequence (imported above)\n",
        "        # Also be sure to check the input format (batch_first)\n",
        "        batch_mfcc_pad = pad_sequence(batch_mfcc, batch_first=True, padding_value=0)\n",
        "        lengths_mfcc = [int(i.shape[0]) for i in batch_mfcc]\n",
        "\n",
        "        batch_transcript_pad = pad_sequence(batch_transcript, batch_first=True, padding_value=0) # TODO\n",
        "        lengths_transcript = [int(i.shape[0]) for i in batch_transcript] # TODO\n",
        "\n",
        "        # You may apply some transformation, Time and Frequency masking, here in the collate function;\n",
        "        # Food for thought -> Why are we applying the transformation here and not in the __getitem__?\n",
        "        #                  -> Would we apply transformation on the validation set as well?\n",
        "        #                  -> Is the order of axes / dimensions as expected for the transform functions?\n",
        "\n",
        "        if self.transforms:\n",
        "          batch_mfcc_pad = self.transforms(batch_mfcc_pad)\n",
        "\n",
        "        \n",
        "        # Return the following values: padded features, padded labels, actual length of features, actual length of the labels\n",
        "        return batch_mfcc_pad, batch_transcript_pad, torch.tensor(lengths_mfcc), torch.tensor(lengths_transcript)"
      ]
    },
    {
      "cell_type": "code",
      "execution_count": null,
      "metadata": {
        "id": "zannKblcPORG"
      },
      "outputs": [],
      "source": [
        "# TODO: Similarly, create a test dataset class\n",
        "# Test Dataloader\n",
        "#TODO\n",
        "class AudioDatasetTest(torch.utils.data.Dataset):\n",
        "\n",
        "    #TODO\n",
        "    def __init__(self, root, partition=\"\", transforms=[]): \n",
        "        '''\n",
        "        Initializes the dataset.\n",
        "\n",
        "        INPUTS: What inputs do you need here?\n",
        "        '''\n",
        "\n",
        "        # Load the directory and all files in them\n",
        "\n",
        "        self.mfcc_dir = root + partition + '/mfcc'\n",
        "        self.mfcc_files = sorted(os.listdir(self.mfcc_dir))\n",
        "\n",
        "        self.length = len(self.mfcc_files)\n",
        "        \n",
        "\n",
        "        self.mfcc = [np.load(self.mfcc_dir+'/'+file) for file in self.mfcc_files]\n",
        "\n",
        "        self.transforms = transforms\n",
        "\n",
        "        #TODO\n",
        "        # CREATE AN ARRAY OF ALL FEATUERS AND LABELS\n",
        "        # WHAT NORMALIZATION TECHNIQUE DID YOU USE IN HW1? CAN WE USE IT HERE?\n",
        "        '''\n",
        "        You may decide to do this in __getitem__ if you wish.\n",
        "        However, doing this here will make the __init__ function take the load of\n",
        "        loading the data, and shift it away from training.\n",
        "        '''\n",
        "       \n",
        "\n",
        "    def __len__(self):\n",
        "        \n",
        "        '''\n",
        "        TODO: What do we return here?\n",
        "        '''\n",
        "        return self.length\n",
        "\n",
        "    def __getitem__(self, ind):\n",
        "        '''\n",
        "        TODO: RETURN THE MFCC COEFFICIENTS AND ITS CORRESPONDING LABELS\n",
        "\n",
        "        If you didn't do the loading and processing of the data in __init__,\n",
        "        do that here.\n",
        "\n",
        "        Once done, return a tuple of features and labels.\n",
        "        '''\n",
        "        \n",
        "        # raise NotImplemented\n",
        "\n",
        "        mfcc = torch.FloatTensor(self.mfcc[ind])\n",
        "        mfcc = (mfcc - mfcc.mean(axis=0))/mfcc.std(axis=0)\n",
        "        return mfcc\n",
        "\n",
        "    def collate_fn(self,batch):\n",
        "        '''\n",
        "        TODO:\n",
        "        1.  Extract the features and labels from 'batch'\n",
        "        2.  We will additionally need to pad both features and labels,\n",
        "            look at pytorch's docs for pad_sequence\n",
        "        3.  This is a good place to perform transforms, if you so wish. \n",
        "            Performing them on batches will speed the process up a bit.\n",
        "        4.  Return batch of features, labels, lenghts of features, \n",
        "            and lengths of labels.\n",
        "        '''\n",
        "        # batch of input mfcc coefficients\n",
        "        batch_mfcc = [x for x in batch] # TODO\n",
        "\n",
        "        batch_mfcc_pad = pad_sequence(batch_mfcc, batch_first=True, padding_value=0) # TODO\n",
        "        lengths_mfcc = [int(i.shape[0]) for i in batch_mfcc]\n",
        "        \n",
        "        if self.transforms:\n",
        "          batch_mfcc_pad = self.transforms(batch_mfcc_pad)\n",
        "        \n",
        "        # Return the following values: padded features, padded labels, actual length of features, actual length of the labels\n",
        "        return batch_mfcc_pad, torch.tensor(lengths_mfcc)"
      ]
    },
    {
      "cell_type": "markdown",
      "metadata": {
        "id": "gQenneVsDLnX"
      },
      "source": [
        "# Dataset and Dataloaders"
      ]
    },
    {
      "cell_type": "code",
      "execution_count": 104,
      "metadata": {
        "id": "oi2FS_hkDQZB"
      },
      "outputs": [],
      "source": [
        "# TODO: Create the datasets and dataloaders\n",
        "# All these things are similar to HW3P2\n",
        "# You can reuse the same code\n",
        "\n",
        "# The sanity check for shapes also are similar\n",
        "# Please remember that the only change in the dataset for this HW is the transcripts\n",
        "# So you are expected to get similar shapes like HW3P2 (Pad, pack and Oh my!)\n",
        "\n",
        "BATCH_SIZE = 128 # Increase if your device can handle it\n",
        "\n",
        "#transforms = torch.nn.Sequential(torchaudio.transforms.FrequencyMasking(freq_mask_param=1),\n",
        "#              torchaudio.transforms.TimeMasking(time_mask_param=5, p=0.3)) # set of tranformations\n",
        "\n",
        "# You may pass this as a parameter to the dataset class above\n",
        "# This will help modularize your implementation\n",
        "\n",
        "# root = '/content/drive/MyDrive/IDL/HW4/data/hw4p2/' \n",
        "root = '/content/data/hw4p2/' "
      ]
    },
    {
      "cell_type": "code",
      "execution_count": 105,
      "metadata": {
        "colab": {
          "base_uri": "https://localhost:8080/",
          "height": 32
        },
        "id": "E6s55EaN8rn9",
        "outputId": "23ebb51e-d9ed-4964-89c0-3cabb659ebb2"
      },
      "outputs": [
        {
          "data": {
            "text/plain": [
              "2177"
            ]
          },
          "execution_count": 105,
          "metadata": {},
          "output_type": "execute_result"
        }
      ],
      "source": [
        "# get me RAMMM!!!! \n",
        "import gc \n",
        "gc.collect()"
      ]
    },
    {
      "cell_type": "code",
      "execution_count": null,
      "metadata": {
        "id": "qM0f_PnaU_MY"
      },
      "outputs": [],
      "source": [
        "transforms = []"
      ]
    },
    {
      "cell_type": "markdown",
      "metadata": {
        "id": "xmqrKptkVZYI"
      },
      "source": [
        "### Toy loader"
      ]
    },
    {
      "cell_type": "code",
      "execution_count": null,
      "metadata": {
        "id": "KqMa-gg4VY2y"
      },
      "outputs": [],
      "source": [
        "toy_transcripts_train = np.load('/content/f0176_hw3p2_train.npy')\n",
        "toy_mfccs_train = np.load('/content/f0176_mfccs_train.npy')"
      ]
    },
    {
      "cell_type": "code",
      "execution_count": null,
      "metadata": {
        "id": "sK0zjNArWNEP"
      },
      "outputs": [],
      "source": []
    },
    {
      "cell_type": "code",
      "execution_count": null,
      "metadata": {
        "id": "6u57qXuDV8pr"
      },
      "outputs": [],
      "source": [
        "toy_transcripts_test = np.load('/content/f0176_hw3p2_dev.npy')\n",
        "toy_mfccs_test = np.load('/content/f0176_mfccs_dev.npy')"
      ]
    },
    {
      "cell_type": "markdown",
      "metadata": {
        "id": "E4kBtPOTVbu7"
      },
      "source": [
        "### Real loader"
      ]
    },
    {
      "cell_type": "code",
      "execution_count": null,
      "metadata": {
        "colab": {
          "base_uri": "https://localhost:8080/"
        },
        "id": "4mzoYfTKu14s",
        "outputId": "95a804df-158e-409d-f7c5-22ae38ff0894"
      },
      "outputs": [
        {
          "name": "stdout",
          "output_type": "stream",
          "text": [
            "28539\n",
            "2703\n"
          ]
        }
      ],
      "source": [
        "# Create objects for the dataset class\n",
        "train_data = AudioDataset(root = root, partition = 'train-clean-100', transforms= transforms) #TODO\n",
        "val_data = AudioDataset(root = root, partition = 'dev-clean', transforms = transforms) # TODO : You can either use the same class with some modifications or make a new one :)\n",
        "test_data = AudioDatasetTest(root = root, partition = 'test-clean', transforms = transforms) #TODO"
      ]
    },
    {
      "cell_type": "code",
      "execution_count": 106,
      "metadata": {
        "colab": {
          "base_uri": "https://localhost:8080/"
        },
        "id": "ES9Kx7J5thVv",
        "outputId": "493a205d-66f1-4e4c-c6b5-59f24a742615"
      },
      "outputs": [
        {
          "name": "stdout",
          "output_type": "stream",
          "text": [
            "Batch size:  128\n",
            "Train dataset samples = 28539, batches = 223\n",
            "Val dataset samples = 2703, batches = 22\n",
            "Test dataset samples = 2620, batches = 21\n"
          ]
        }
      ],
      "source": [
        "# Do NOT forget to pass in the collate function as parameter while creating the dataloader\n",
        "train_loader = torch.utils.data.DataLoader(train_data, num_workers= 4,\n",
        "                                           batch_size=BATCH_SIZE, collate_fn = train_data.collate_fn,\n",
        "                                           shuffle= True)\n",
        "val_loader = torch.utils.data.DataLoader(val_data, num_workers= 2,\n",
        "                                         batch_size=BATCH_SIZE, collate_fn = val_data.collate_fn,\n",
        "                                         shuffle= False)\n",
        "test_loader = torch.utils.data.DataLoader(test_data, num_workers= 2, \n",
        "                                          batch_size=BATCH_SIZE, collate_fn = test_data.collate_fn, \n",
        "                                          shuffle= False)\n",
        "\n",
        "print(\"Batch size: \", BATCH_SIZE)\n",
        "print(\"Train dataset samples = {}, batches = {}\".format(train_data.__len__(), len(train_loader)))\n",
        "print(\"Val dataset samples = {}, batches = {}\".format(val_data.__len__(), len(val_loader)))\n",
        "print(\"Test dataset samples = {}, batches = {}\".format(test_data.__len__(), len(test_loader)))"
      ]
    },
    {
      "cell_type": "code",
      "execution_count": 129,
      "metadata": {
        "colab": {
          "base_uri": "https://localhost:8080/"
        },
        "id": "cXMtwyviKaxK",
        "outputId": "3ca39812-75dc-42cd-83ca-2bf1a077fbaf"
      },
      "outputs": [
        {
          "name": "stdout",
          "output_type": "stream",
          "text": [
            "tensor(205)\n",
            "128\n",
            "torch.Size([128, 2707, 15]) torch.Size([128, 309]) torch.Size([128]) torch.Size([128])\n"
          ]
        }
      ],
      "source": [
        "# sanity check\n",
        "for data in val_loader:\n",
        "    x, y, lx, ly = data\n",
        "    print(lx[0])\n",
        "    print(len(x))\n",
        "    print(x.shape, y.shape, lx.shape, ly.shape)\n",
        "    break "
      ]
    },
    {
      "cell_type": "code",
      "execution_count": 108,
      "metadata": {
        "colab": {
          "base_uri": "https://localhost:8080/"
        },
        "id": "W8WJBxYcvDLP",
        "outputId": "945cbb91-3337-4df7-c1fc-b3f2d4a73610"
      },
      "outputs": [
        {
          "name": "stdout",
          "output_type": "stream",
          "text": [
            "torch.Size([128, 3000, 15]) torch.Size([128])\n"
          ]
        }
      ],
      "source": [
        "for data in test_loader:\n",
        "    x, lx= data\n",
        "    print(x.shape, lx.shape)\n",
        "    break "
      ]
    },
    {
      "cell_type": "code",
      "execution_count": null,
      "metadata": {
        "colab": {
          "base_uri": "https://localhost:8080/"
        },
        "id": "4KOZyOyD5JLd",
        "outputId": "ec6b58b1-759f-4cf3-91f7-24d2608a6f06"
      },
      "outputs": [
        {
          "data": {
            "text/plain": [
              "tensor([ 0, 18, 15, 19,  5, 28,  8,  9,  7,  8, 28,  1, 14,  4, 28, 12, 15, 21,\n",
              "         4, 28, 23,  8,  9, 12,  5, 28,  1, 28,  7, 18,  5,  1, 20, 28, 20,  8,\n",
              "        21, 14,  4,  5, 18,  9, 14,  7, 28,  1, 20, 28, 20,  8,  5, 28,  6, 18,\n",
              "        15, 14, 20, 28,  4, 15, 15, 18, 28, 15,  6, 28, 20,  8,  5, 28,  3,  8,\n",
              "        21, 18,  3,  8, 28,  1, 14, 14, 15, 21, 14,  3,  5,  4, 28, 20,  8,  1,\n",
              "        20, 28, 20,  8,  5, 28, 16,  5, 15, 16, 12,  5, 28,  2,  5, 12, 15, 23,\n",
              "        28,  8,  1,  4, 28,  1, 12, 19, 15, 28,  3,  1, 21,  7,  8, 20, 28, 20,\n",
              "         8,  5, 28, 19, 15, 21, 14,  4, 28, 15,  6, 28, 20,  8,  5, 28, 13, 21,\n",
              "        19,  9,  3, 28,  1, 14,  4, 28, 23,  5, 18,  5, 28,  3, 12,  1, 13, 15,\n",
              "        18, 15, 21, 19, 28,  6, 15, 18, 28,  1,  4, 13,  9, 19, 19,  9, 15, 14,\n",
              "        29,  0,  0,  0,  0,  0,  0,  0,  0,  0,  0,  0,  0,  0,  0,  0,  0,  0,\n",
              "         0,  0,  0,  0,  0,  0,  0,  0,  0,  0,  0,  0,  0,  0,  0,  0,  0,  0,\n",
              "         0,  0,  0,  0,  0,  0,  0,  0,  0,  0,  0,  0,  0,  0,  0,  0,  0,  0,\n",
              "         0,  0,  0,  0,  0,  0,  0,  0,  0,  0,  0,  0,  0,  0,  0,  0,  0,  0,\n",
              "         0,  0,  0,  0,  0,  0,  0,  0,  0,  0,  0,  0,  0,  0,  0,  0,  0,  0])"
            ]
          },
          "execution_count": 45,
          "metadata": {},
          "output_type": "execute_result"
        }
      ],
      "source": [
        "y[1]"
      ]
    },
    {
      "cell_type": "code",
      "execution_count": null,
      "metadata": {
        "colab": {
          "base_uri": "https://localhost:8080/"
        },
        "id": "2L1BwwYm98jc",
        "outputId": "3e79a2b6-4520-4c8e-be76-ce4be7052f11"
      },
      "outputs": [
        {
          "data": {
            "text/plain": [
              "tensor(181)"
            ]
          },
          "execution_count": 46,
          "metadata": {},
          "output_type": "execute_result"
        }
      ],
      "source": [
        "ly[1]"
      ]
    },
    {
      "cell_type": "markdown",
      "metadata": {
        "id": "I--VjKlEhwi8"
      },
      "source": [
        "# Model"
      ]
    },
    {
      "cell_type": "markdown",
      "metadata": {
        "id": "uql9E6cqROvJ"
      },
      "source": [
        "In this section you will be building the LAS model from scratch. Before starting to code, please read the writeup, paper and understand the following parts completely.<br>\n",
        "- Pyramidal Bi-LSTM \n",
        "- Listener\n",
        "- Attention\n",
        "- Speller\n",
        "\n",
        "After getting a good grasp of the workings of these modules, start coding. Follow the TODOs carefully. We will also be adding some extra features to the attention mechanism like keys and values which are not originally present in LAS. So we will be creating a hybrid network based on LAS and Attention is All You Need.\n"
      ]
    },
    {
      "cell_type": "code",
      "execution_count": 109,
      "metadata": {
        "id": "LfqM1LnCJe2s"
      },
      "outputs": [],
      "source": [
        "class LockedDropout(torch.nn.Module):\n",
        "    \"\"\" LockedDropout applies the same dropout mask to every time step.\n",
        "\n",
        "    **Thank you** to Sales Force for their initial implementation of :class:`WeightDrop`. Here is\n",
        "    their `License\n",
        "    <https://github.com/salesforce/awd-lstm-lm/blob/master/LICENSE>`__.\n",
        "\n",
        "    Args:\n",
        "        p (float): Probability of an element in the dropout mask to be zeroed.\n",
        "    \"\"\"\n",
        "\n",
        "    def __init__(self, p=0.5):\n",
        "        self.p = p\n",
        "        super().__init__()\n",
        "\n",
        "    def forward(self, x):\n",
        "        \"\"\"\n",
        "        Args:\n",
        "            x (:class:`torch.FloatTensor` [sequence length, batch size, rnn hidden size]): Input to\n",
        "                apply dropout too.\n",
        "        \"\"\"\n",
        "        if not self.training or not self.p:\n",
        "            return x\n",
        "        # T, B, C -> B, T, C\n",
        "        x = x.clone()\n",
        "        mask = x.new_empty(x.size(0), 1, x.size(2), requires_grad=False).bernoulli_(1 - self.p)\n",
        "        mask = mask.div_(1 - self.p)\n",
        "        mask = mask.expand_as(x)\n",
        "        return x * mask\n",
        "\n",
        "\n",
        "    def __repr__(self):\n",
        "        return self.__class__.__name__ + '(' \\\n",
        "            + 'p=' + str(self.p) + ')'"
      ]
    },
    {
      "cell_type": "markdown",
      "metadata": {
        "id": "lCbwz0LZMWwe"
      },
      "source": [
        "## Encoder"
      ]
    },
    {
      "cell_type": "markdown",
      "metadata": {
        "id": "XoI0zEoIMX5I"
      },
      "source": [
        "### Pyramidal Bi-LSTM"
      ]
    },
    {
      "cell_type": "code",
      "execution_count": 110,
      "metadata": {
        "id": "-F9zAQR95P55"
      },
      "outputs": [],
      "source": [
        "class pBLSTM(torch.nn.Module):\n",
        "\n",
        "    '''\n",
        "    Pyramidal BiLSTM\n",
        "    Read the write up/paper and understand the concepts and then write your implementation here.\n",
        "\n",
        "    At each step,\n",
        "    1. Pad your input if it is packed (Unpack it)\n",
        "    2. Reduce the input length dimension by concatenating feature dimension\n",
        "        (Tip: Write down the shapes and understand)\n",
        "        (i) How should  you deal with odd/even length input? \n",
        "        (ii) How should you deal with input length array (x_lens) after truncating the input?\n",
        "    3. Pack your input\n",
        "    4. Pass it into LSTM layer\n",
        "\n",
        "    To make our implementation modular, we pass 1 layer at a time.\n",
        "    '''\n",
        "    \n",
        "    def __init__(self, input_size, hidden_size):\n",
        "        super(pBLSTM, self).__init__()\n",
        "\n",
        "        # TODO: Initialize a single layer bidirectional LSTM with the given input_size and hidden_size\n",
        "        self.blstm = torch.nn.LSTM(input_size = input_size, hidden_size = hidden_size, num_layers=1, \\\n",
        "                                   dropout=0.2, bidirectional=True, batch_first = True)\n",
        "        \n",
        "        self.dropout = LockedDropout(p=0.2)\n",
        "\n",
        "\n",
        "    def forward(self, x_packed): # x_packed is a PackedSequence\n",
        "\n",
        "        # TODO: Pad Packed Sequence\n",
        "        x_padded, x_padded_length = pad_packed_sequence(x_packed, batch_first=True)\n",
        "        \n",
        "        # Call self.trunc_reshape() which downsamples the time steps of x and increases the feature dimensions as mentioned above\n",
        "        # self.trunc_reshape will return 2 outputs. What are they? Think about what quantites are changing.\n",
        "        x_trunc, x_trunc_length = self.trunc_reshape(x_padded, x_padded_length)\n",
        "        out = self.dropout(x_trunc)\n",
        "        \n",
        "        # TODO: Pack Padded Sequence. What output(s) would you get?\n",
        "        x_packed = pack_padded_sequence(out, x_trunc_length, \n",
        "                                        batch_first=True, \n",
        "                                        enforce_sorted=False)\n",
        "        \n",
        "        # TODO: Pass the sequence through bLSTM\n",
        "        out, _ = self.blstm(x_packed)\n",
        "\n",
        "\n",
        "        # What do you return?\n",
        "\n",
        "        return out\n",
        "\n",
        "    def trunc_reshape(self, x, x_lens): \n",
        "        # TODO: If you have odd number of timesteps, how can you handle it? (Hint: You can exclude them)\n",
        "        B, L, D = x.shape\n",
        "    \n",
        "        x = x[:, :(L//2)*2, :]\n",
        "        \n",
        "\n",
        "        # TODO: Reshape x. When reshaping x, you have to reduce number of timesteps by a downsampling factor while increasing number of features by the same factor\n",
        "        x = x.reshape(B, L // 2, D * 2)\n",
        "\n",
        "        # TODO: Reduce lengths by the same downsampling factor\n",
        "        x_lens = x_lens // 2\n",
        "\n",
        "        return x, x_lens"
      ]
    },
    {
      "cell_type": "markdown",
      "metadata": {
        "id": "_rchbyjlMeB2"
      },
      "source": [
        "### Listener"
      ]
    },
    {
      "cell_type": "code",
      "execution_count": 111,
      "metadata": {
        "id": "912b3sVoHr1e"
      },
      "outputs": [],
      "source": [
        "class Listener(torch.nn.Module):\n",
        "    '''\n",
        "    The Encoder takes utterances as inputs and returns latent feature representations\n",
        "    '''\n",
        "    def __init__(self, input_size, encoder_hidden_size):\n",
        "        super(Listener, self).__init__()\n",
        "\n",
        "        # The first LSTM at the very bottom\n",
        "        # The first LSTM at the very bottom\n",
        "        self.base_lstm1 = torch.nn.LSTM(input_size=input_size, hidden_size=encoder_hidden_size//2, bidirectional=True, batch_first=True, num_layers=1, dropout=0.2)\n",
        "        self.base_lstm2 = torch.nn.LSTM(input_size=encoder_hidden_size, hidden_size=encoder_hidden_size, bidirectional=True, batch_first=True, num_layers=1)\n",
        "        self.base_lstm3 = torch.nn.LSTM(input_size=encoder_hidden_size*2, hidden_size=encoder_hidden_size, bidirectional=True, batch_first=True, num_layers=1)\n",
        "        \n",
        "        self.locked_dropout1 = LockedDropout(p=0.1)\n",
        "        self.locked_dropout2 = LockedDropout(p=0.1)\n",
        "        self.locked_dropout3 = LockedDropout(p=0.1)\n",
        "\n",
        "        self.pBLSTMs = torch.nn.Sequential( # How many pBLSTMs are required?\n",
        "            # TODO: Fill this up with pBLSTMs - What should the input_size be? \n",
        "            # Hint: You are downsampling timesteps by a factor of 2, upsampling features by a factor of 2 and the LSTM is bidirectional)\n",
        "            # Optional: Dropout/Locked Dropout after each pBLSTM (Not needed for early submission)\n",
        "            pBLSTM(encoder_hidden_size*4, encoder_hidden_size),\n",
        "            pBLSTM(encoder_hidden_size*4, encoder_hidden_size),\n",
        "            pBLSTM(encoder_hidden_size*4, encoder_hidden_size),\n",
        "        )\n",
        "         \n",
        "    def forward(self, x, x_lens):\n",
        "        # Where are x and x_lens coming from? The dataloader\n",
        "        \n",
        "        # TODO: Pack Padded Sequence\n",
        "        # TODO: Pass it through the first LSTM layer (no truncation)\n",
        "        # TODO: Pad Packed Sequence\n",
        "        # TODO: Pass Sequence through the pyramidal Bi-LSTM layer\n",
        "\n",
        "        out = pack_padded_sequence(x, x_lens, batch_first=True, enforce_sorted=False)\n",
        "        out, hidden = self.base_lstm1(out)\n",
        "        out, out_lens = pad_packed_sequence(out, batch_first=True)\n",
        "        out = self.locked_dropout1(out)\n",
        "        \n",
        "        out = pack_padded_sequence(out, out_lens, batch_first=True, enforce_sorted=False)\n",
        "        out, hidden = self.base_lstm2(out)\n",
        "        out, out_lens = pad_packed_sequence(out, batch_first=True)\n",
        "        out = self.locked_dropout2(out)\n",
        "        \n",
        "        out = pack_padded_sequence(out, out_lens, batch_first=True, enforce_sorted=False)\n",
        "        out, hidden = self.base_lstm3(out)\n",
        "\n",
        "        out = self.pBLSTMs(out)\n",
        "        encoder_outputs, encoder_lens = pad_packed_sequence(out, batch_first=True)\n",
        "\n",
        "        return encoder_outputs, encoder_lens"
      ]
    },
    {
      "cell_type": "code",
      "execution_count": 112,
      "metadata": {
        "colab": {
          "base_uri": "https://localhost:8080/"
        },
        "id": "0EgRqsKDI7dD",
        "outputId": "fc740f4d-4e78-4667-ed43-00a6a4cad6f3"
      },
      "outputs": [
        {
          "name": "stdout",
          "output_type": "stream",
          "text": [
            "Listener(\n",
            "  (base_lstm1): LSTM(15, 256, batch_first=True, dropout=0.2, bidirectional=True)\n",
            "  (base_lstm2): LSTM(512, 512, batch_first=True, bidirectional=True)\n",
            "  (base_lstm3): LSTM(1024, 512, batch_first=True, bidirectional=True)\n",
            "  (locked_dropout1): LockedDropout(p=0.1)\n",
            "  (locked_dropout2): LockedDropout(p=0.1)\n",
            "  (locked_dropout3): LockedDropout(p=0.1)\n",
            "  (pBLSTMs): Sequential(\n",
            "    (0): pBLSTM(\n",
            "      (blstm): LSTM(2048, 512, batch_first=True, dropout=0.2, bidirectional=True)\n",
            "      (dropout): LockedDropout(p=0.2)\n",
            "    )\n",
            "    (1): pBLSTM(\n",
            "      (blstm): LSTM(2048, 512, batch_first=True, dropout=0.2, bidirectional=True)\n",
            "      (dropout): LockedDropout(p=0.2)\n",
            "    )\n",
            "    (2): pBLSTM(\n",
            "      (blstm): LSTM(2048, 512, batch_first=True, dropout=0.2, bidirectional=True)\n",
            "      (dropout): LockedDropout(p=0.2)\n",
            "    )\n",
            "  )\n",
            ")\n"
          ]
        }
      ],
      "source": [
        "encoder = Listener(input_size = 15, encoder_hidden_size = 512).to(DEVICE) # TODO: Initialize Listener\n",
        "print(encoder)\n",
        "#summary(encoder, example_batch[0].to(DEVICE), example_batch[3])\n",
        "del encoder"
      ]
    },
    {
      "cell_type": "markdown",
      "metadata": {
        "id": "JJCpBcEmMVcZ"
      },
      "source": [
        "## Attention (Attend)"
      ]
    },
    {
      "cell_type": "markdown",
      "metadata": {
        "id": "f6k9R7jKMRcZ"
      },
      "source": [
        "### Different ways to compute Attention\n",
        "\n",
        "1. Dot-product attention\n",
        "    * raw_weights = bmm(key, query) \n",
        "    * Optional: Scaled dot-product by normalizing with sqrt key dimension \n",
        "    * Check \"Attention is All You Need\" Section 3.2.1\n",
        "    * 1st way is what most TAs are comfortable with, but if you want to explore, check out other methods below\n",
        "\n",
        "\n",
        "2. Cosine attention\n",
        "    * raw_weights = cosine(query, key) # almost the same as dot-product xD \n",
        "\n",
        "3. Bi-linear attention\n",
        "    * W = Linear transformation (learnable parameter): d_k -> d_q\n",
        "    * raw_weights = bmm(key @ W, query)\n",
        "\n",
        "4. Multi-layer perceptron\n",
        "    * Check \"Neural Machine Translation and Sequence-to-sequence Models: A Tutorial\" Section 8.4\n",
        "\n",
        "5. Multi-Head Attention\n",
        "    * Check \"Attention is All You Need\" Section 3.2.2\n",
        "    * h = Number of heads\n",
        "    * W_Q, W_K, W_V: Weight matrix for Q, K, V (h of them in total)\n",
        "    * W_O: d_v -> d_v\n",
        "    * Reshape K: (B, T, d_k) to (B, T, h, d_k // h) and transpose to (B, h, T, d_k // h)\n",
        "    * Reshape V: (B, T, d_v) to (B, T, h, d_v // h) and transpose to (B, h, T, d_v // h)\n",
        "    * Reshape Q: (B, d_q) to (B, h, d_q // h) `\n",
        "    * raw_weights = Q @ K^T\n",
        "    * masked_raw_weights = mask(raw_weights)\n",
        "    * attention = softmax(masked_raw_weights)\n",
        "    * multi_head = attention @ V\n",
        "    * multi_head = multi_head reshaped to (B, d_v)\n",
        "    * context = multi_head @ W_O"
      ]
    },
    {
      "cell_type": "code",
      "execution_count": 113,
      "metadata": {
        "id": "pqu-MUM8TjUO"
      },
      "outputs": [],
      "source": [
        "def plot_attention(attention): \n",
        "    # Function for plotting attention\n",
        "    # You need to get a diagonal plot\n",
        "    plt.clf()\n",
        "    sns.heatmap(attention, cmap='GnBu')\n",
        "    plt.show()\n",
        "\n",
        "class Attention(torch.nn.Module):\n",
        "    '''\n",
        "    Attention is calculated using the key, value (from encoder hidden states) and query from decoder.\n",
        "    Here are different ways to compute attention and context:\n",
        "\n",
        "    After obtaining the raw weights, compute and return attention weights and context as follows.:\n",
        "\n",
        "    masked_raw_weights  = mask(raw_weights) # mask out padded elements with big negative number (e.g. -1e9 or -inf in FP16)\n",
        "    attention           = softmax(masked_raw_weights)\n",
        "    context             = bmm(attention, value)\n",
        "    \n",
        "    At the end, you can pass context through a linear layer too.\n",
        "\n",
        "    '''\n",
        "    \n",
        "    def __init__(self, encoder_hidden_size, decoder_output_size, projection_size):\n",
        "        super(Attention, self).__init__()\n",
        "\n",
        "        self.projection_size = projection_size\n",
        "\n",
        "        self.key_projection     = torch.nn.Linear(encoder_hidden_size*2, projection_size) # TODO: Define an nn.Linear layer which projects the encoder_hidden_state to keys\n",
        "        self.value_projection   = torch.nn.Linear(encoder_hidden_size*2, projection_size) # TODO: Define an nn.Linear layer which projects the encoder_hidden_state to value\n",
        "        self.query_projection   = torch.nn.Linear(decoder_output_size, projection_size) # TODO: Define an nn.Linear layer which projects the decoder_output_state to query\n",
        "        # Optional : Define an nn.Linear layer which projects the context vector\n",
        "\n",
        "        self.softmax            = torch.nn.Softmax(dim=1) # TODO: Define a softmax layer. Think about the dimension which you need to apply \n",
        "        # Tip: What is the shape of energy? And what are those?\n",
        "\n",
        "    # As you know, in the attention mechanism, the key, value and mask are calculated only once.\n",
        "    # This function is used to calculate them and set them to self\n",
        "    def set_key_value_mask(self, encoder_outputs, encoder_lens):\n",
        "    \n",
        "        _, encoder_max_seq_len, _ = encoder_outputs.shape\n",
        "\n",
        "        self.key      = self.key_projection(encoder_outputs) # TODO: Project encoder_outputs using key_projection to get keys\n",
        "        self.value    = self.value_projection(encoder_outputs) # TODO: Project encoder_outputs using value_projection to get values\n",
        "\n",
        "        # encoder_max_seq_len is of shape (batch_size, ) which consists of the lengths encoder output sequences in that batch\n",
        "        # The raw_weights are of shape (batch_size, timesteps)\n",
        "\n",
        "        # TODO: To remove the influence of padding in the raw_weights, we want to create a boolean mask of shape (batch_size, timesteps) \n",
        "        # The mask is False for all indicies before padding begins, True for all indices after.\n",
        "        self.padding_mask     =  torch.arange(encoder_max_seq_len).unsqueeze(0) >= encoder_lens.unsqueeze(1) # TODO: You want to use a comparison between encoder_max_seq_len and encoder_lens to create this mask. \n",
        "        self.padding_mask = self.padding_mask.to(DEVICE)\n",
        "        # (Hint: Broadcasting gives you a one liner)\n",
        "        \n",
        "    def forward(self, decoder_output_embedding):\n",
        "        # key   : (batch_size, timesteps, projection_size)\n",
        "        # value : (batch_size, timesteps, projection_size)\n",
        "        # query : (batch_size, projection_size)\n",
        "\n",
        "        self.query         = self.query_projection(decoder_output_embedding) # TODO: Project the query using query_projection\n",
        "\n",
        "        # Hint: Take a look at torch.bmm for the products below \n",
        "\n",
        "        raw_weights        = torch.bmm(self.key, self.query.unsqueeze(2)).squeeze(2) # TODO: Calculate raw_weights which is the product of query and key, and is of shape (batch_size, timesteps)\n",
        "        masked_raw_weights = raw_weights.masked_fill_(self.padding_mask.bool(), -float('inf')) # TODO: Mask the raw_weights with self.padding_mask. \n",
        "        # Take a look at pytorch's masked_fill_ function (You want the fill value to be a big negative number for the softmax to make it close to 0)\n",
        "\n",
        "        attention_weights  = self.softmax(raw_weights / np.sqrt(self.key.shape[2])) # TODO: Calculate the attention weights, which is the softmax of raw_weights\n",
        "        context            = torch.bmm(attention_weights.unsqueeze(1), self.value).squeeze(1) # TODO: Calculate the context - it is a product between attention_weights and value\n",
        "\n",
        "        # Hint: You might need to use squeeze/unsqueeze to make sure that your operations work with bmm\n",
        "\n",
        "        return context, attention_weights # Return the context, attention_weights"
      ]
    },
    {
      "cell_type": "markdown",
      "metadata": {
        "id": "78XOdWExMSi-"
      },
      "source": [
        "## Decoder"
      ]
    },
    {
      "cell_type": "markdown",
      "metadata": {
        "id": "TuUQTy2NMlbT"
      },
      "source": [
        "### Speller"
      ]
    },
    {
      "cell_type": "code",
      "execution_count": 114,
      "metadata": {
        "id": "y7-R6BTuT8dm"
      },
      "outputs": [],
      "source": [
        "class Speller(torch.nn.Module):\n",
        "\n",
        "    def __init__(self, embed_size, decoder_hidden_size, decoder_output_size, vocab_size, attention_module= None):\n",
        "        super().__init__()\n",
        "\n",
        "        self.vocab_size         = vocab_size\n",
        "\n",
        "        self.embedding          = torch.nn.Embedding(num_embeddings=vocab_size, embedding_dim=embed_size, padding_idx=EOS_TOKEN) \n",
        "        # TODO: Initialize the Embedding Layer (Use the nn.Embedding Layer from torch), make sure you set the correct padding_idx  \n",
        "\n",
        "        self.lstm_cells         = torch.nn.Sequential(\n",
        "                                # Create Two LSTM Cells as per LAS Architecture\n",
        "                                # What should the input_size of the first LSTM Cell? \n",
        "                                # Hint: It takes in a combination of the character embedding and context from attention\n",
        "                                    torch.nn.LSTMCell(input_size=decoder_output_size + embed_size, hidden_size=decoder_hidden_size),\n",
        "                                    torch.nn.LSTMCell(input_size=decoder_hidden_size, hidden_size=decoder_hidden_size),\n",
        "                                    torch.nn.LSTMCell(input_size=decoder_hidden_size, hidden_size=decoder_output_size),\n",
        "                                )\n",
        "                                \n",
        "    \n",
        "                                # We are using LSTMCells because process individual time steps inputs and not the whole sequence.\n",
        "                                # Think why we need this in terms of the query\n",
        "\n",
        "        self.char_prob          = torch.nn.Linear(attention_module.projection_size + decoder_output_size, vocab_size)\n",
        "        # TODO: Initialize the classification layer to generate your probability distribution over all characters\n",
        "\n",
        "        self.char_prob.weight   = self.embedding.weight # Weight tying\n",
        "\n",
        "        self.attention          = attention_module\n",
        "\n",
        "        self.dropout = torch.nn.Dropout(0.2)\n",
        "\n",
        "    \n",
        "    def forward(self, encoder_outputs, encoder_lens, y = None, tf_rate = 1): \n",
        "\n",
        "        '''\n",
        "        Args: \n",
        "            embedding: Attention embeddings \n",
        "            hidden_list: List of Hidden States for the LSTM Cells\n",
        "        ''' \n",
        "\n",
        "        batch_size, encoder_max_seq_len, _ = encoder_outputs.shape\n",
        "\n",
        "        if self.training:\n",
        "            timesteps     = y.shape[1] # The number of timesteps is the sequence of length of your transcript during training\n",
        "            label_embed   = self.embedding(y) # Embeddings of the transcript, when we want to use teacher forcing\n",
        "        else:\n",
        "            timesteps     = 600 # 600 is a design choice that we recommend, however you are free to experiment.\n",
        "        \n",
        "\n",
        "        # INITS\n",
        "        predictions     = []\n",
        "\n",
        "        # Initialize the first character input to your decoder, SOS\n",
        "        char            = torch.full((batch_size,), fill_value=SOS_TOKEN, dtype= torch.long).to(DEVICE) \n",
        "\n",
        "        # Initialize a list to keep track of LSTM Cell Hidden and Cell Memory States, to None\n",
        "        hidden_states   = [None]*len(self.lstm_cells) \n",
        "\n",
        "        attention_plot          = []\n",
        "        context                 = torch.zeros(batch_size, self.attention.projection_size).to(DEVICE) # TODO: Initialize context (You have a few choices, refer to the writeup )\n",
        "        attention_weights       = torch.zeros(batch_size, encoder_max_seq_len) # Attention Weights are zero if not using Attend Module\n",
        "\n",
        "        # Set Attention Key, Value, Padding Mask just once\n",
        "        if self.attention != None:\n",
        "            self.attention.set_key_value_mask(encoder_outputs, encoder_lens)\n",
        "\n",
        "\n",
        "        for t in range(timesteps):\n",
        "            \n",
        "            # char_embed = #TODO: Generate the embedding for the character at timestep t\n",
        "\n",
        "            # if self.training and t > 0:\n",
        "            #     # TODO: We want to decide which embedding to use as input for the decoder during training\n",
        "            #     # We can use the embedding of the transcript character or the embedding of decoded/predicted character, from the previous timestep \n",
        "            #     # Using the embedding of the transcript character is teacher forcing, it is very important for faster convergence\n",
        "            #     # Use a comparison between a random probability and your teacher forcing rate, to decide which embedding to use\n",
        "\n",
        "            #     char_embed = # TODO\n",
        "\n",
        "            if self.training:\n",
        "                if random.random() < tf_rate:\n",
        "                    if t == 0:\n",
        "                        char_embed = self.embedding(char)\n",
        "                    else:\n",
        "                        char_embed = label_embed[:,t-1,:] # t-1\n",
        "                else:\n",
        "                    char_embed = self.embedding(char)\n",
        "            else:\n",
        "                char_embed = self.embedding(char)\n",
        "      \n",
        "            decoder_input_embedding = torch.cat([char_embed, context], dim=1)\n",
        "            # TODO: What do we want to concatenate as input to the decoder? (Use torch.cat)\n",
        "            \n",
        "            # Loop over your lstm cells\n",
        "            # Each lstm cell takes in an embedding \n",
        "            for i in range(len(self.lstm_cells)):\n",
        "                # An LSTM Cell returns (h,c) -> h = hidden state, c = cell memory state\n",
        "                # Using 2 LSTM Cells is akin to a 2 layer LSTM looped through t timesteps \n",
        "                # The second LSTM Cell takes in the output hidden state of the first LSTM Cell (from the current timestep) as Input, along with the hidden and cell states of the cell from the previous timestep\n",
        "                hidden_states[i] = self.lstm_cells[i](decoder_input_embedding, hidden_states[i]) \n",
        "                decoder_input_embedding = hidden_states[i][0]\n",
        "\n",
        "            # The output embedding from the decoder is the hidden state of the last LSTM Cell\n",
        "            decoder_output_embedding = hidden_states[-1][0]\n",
        "\n",
        "            # We compute attention from the output of the last LSTM Cell\n",
        "            if self.attention != None:\n",
        "                context, attention_weights = self.attention(decoder_output_embedding) # The returned query is the projected query\n",
        "\n",
        "            attention_plot.append(attention_weights[0].detach().cpu())\n",
        "\n",
        "            output_embedding     = torch.cat([self.attention.query, context], dim=1)\n",
        "            # TODO: Concatenate the projected query with context for the output embedding\n",
        "            # Hint: How can you get the projected query from attention\n",
        "            # If you are not using attention, what will you use instead of query?\n",
        "\n",
        "            char_prob            = self.char_prob(output_embedding)\n",
        "            \n",
        "            # Append\n",
        "            predictions.append(char_prob)\n",
        "\n",
        "            char = char_prob.argmax(dim=1)\n",
        "            # TODO: Get the predicted character for the next timestep from the probability distribution \n",
        "            # (Hint: Use Greedy Decoding for starters)\n",
        "\n",
        "\n",
        "        attention_plot  = torch.stack(attention_plot, dim=0) # TODO: Stack list of attetion_plots \n",
        "        predictions     = torch.stack(predictions, dim=1) # TODO: Stack list of predictions \n",
        "\n",
        "        return predictions, attention_plot"
      ]
    },
    {
      "cell_type": "markdown",
      "metadata": {
        "id": "lMgncQmVMnCO"
      },
      "source": [
        "## Sequence-to-Sequence Model"
      ]
    },
    {
      "cell_type": "markdown",
      "metadata": {
        "id": "LWWzurvXM0iv"
      },
      "source": [
        "### LAS"
      ]
    },
    {
      "cell_type": "code",
      "execution_count": 115,
      "metadata": {
        "id": "zcTC4cK95TYT"
      },
      "outputs": [],
      "source": [
        "class LAS(torch.nn.Module):\n",
        "    def __init__(self, input_size, encoder_hidden_size, \n",
        "                 vocab_size, embed_size,\n",
        "                 decoder_hidden_size, decoder_output_size,\n",
        "                 projection_size= 128):\n",
        "        \n",
        "        super(LAS, self).__init__()\n",
        "\n",
        "        self.encoder        = Listener(input_size, encoder_hidden_size)\n",
        "        attention_module    = Attention(encoder_hidden_size, decoder_output_size, projection_size)\n",
        "        self.decoder        = Speller(embed_size, decoder_hidden_size, decoder_output_size, vocab_size, attention_module=attention_module)\n",
        "\n",
        "    def forward(self, x, x_lens, y = None, tf_rate = 1):\n",
        "\n",
        "        encoder_outputs, encoder_lens = self.encoder(x, x_lens) # from Listener\n",
        "        predictions, attention_plot = self.decoder(encoder_outputs, encoder_lens, y, tf_rate)\n",
        "        \n",
        "        return predictions, attention_plot"
      ]
    },
    {
      "cell_type": "markdown",
      "metadata": {
        "id": "EHMzR6fLht5n"
      },
      "source": [
        "# Training Setup"
      ]
    },
    {
      "cell_type": "markdown",
      "metadata": {
        "id": "TI2AKhQ6YP6F"
      },
      "source": [
        "## Model Setup\n",
        "\n",
        "\n",
        "\n",
        "\n",
        "\n",
        "\n",
        "\n",
        "\n"
      ]
    },
    {
      "cell_type": "code",
      "execution_count": 116,
      "metadata": {
        "colab": {
          "base_uri": "https://localhost:8080/"
        },
        "id": "IS-YUHQlYQmL",
        "outputId": "22096b1f-4a40-453f-898e-1c7043a7070c"
      },
      "outputs": [
        {
          "name": "stdout",
          "output_type": "stream",
          "text": [
            "LAS(\n",
            "  (encoder): Listener(\n",
            "    (base_lstm1): LSTM(15, 128, batch_first=True, dropout=0.2, bidirectional=True)\n",
            "    (base_lstm2): LSTM(256, 256, batch_first=True, bidirectional=True)\n",
            "    (base_lstm3): LSTM(512, 256, batch_first=True, bidirectional=True)\n",
            "    (locked_dropout1): LockedDropout(p=0.1)\n",
            "    (locked_dropout2): LockedDropout(p=0.1)\n",
            "    (locked_dropout3): LockedDropout(p=0.1)\n",
            "    (pBLSTMs): Sequential(\n",
            "      (0): pBLSTM(\n",
            "        (blstm): LSTM(1024, 256, batch_first=True, dropout=0.2, bidirectional=True)\n",
            "        (dropout): LockedDropout(p=0.2)\n",
            "      )\n",
            "      (1): pBLSTM(\n",
            "        (blstm): LSTM(1024, 256, batch_first=True, dropout=0.2, bidirectional=True)\n",
            "        (dropout): LockedDropout(p=0.2)\n",
            "      )\n",
            "      (2): pBLSTM(\n",
            "        (blstm): LSTM(1024, 256, batch_first=True, dropout=0.2, bidirectional=True)\n",
            "        (dropout): LockedDropout(p=0.2)\n",
            "      )\n",
            "    )\n",
            "  )\n",
            "  (decoder): Speller(\n",
            "    (embedding): Embedding(30, 256, padding_idx=29)\n",
            "    (lstm_cells): Sequential(\n",
            "      (0): LSTMCell(384, 512)\n",
            "      (1): LSTMCell(512, 512)\n",
            "      (2): LSTMCell(512, 128)\n",
            "    )\n",
            "    (char_prob): Linear(in_features=256, out_features=30, bias=True)\n",
            "    (attention): Attention(\n",
            "      (key_projection): Linear(in_features=512, out_features=128, bias=True)\n",
            "      (value_projection): Linear(in_features=512, out_features=128, bias=True)\n",
            "      (query_projection): Linear(in_features=128, out_features=128, bias=True)\n",
            "      (softmax): Softmax(dim=1)\n",
            "    )\n",
            "    (dropout): Dropout(p=0.2, inplace=False)\n",
            "  )\n",
            ")\n"
          ]
        }
      ],
      "source": [
        "# Baseline LAS has the following configuration:\n",
        "# Encoder bLSTM/pbLSTM Hidden Dimension of 512 (256 per direction)\n",
        "# Decoder Embedding Layer Dimension of 256\n",
        "# Decoder Hidden Dimension of 512 \n",
        "# Decoder Output Dimension of 128\n",
        "# Attention Projection Size of 128\n",
        "# Feel Free to Experiment with this \n",
        "\n",
        "model = LAS(input_size=15, \n",
        "            encoder_hidden_size=256, \n",
        "            vocab_size=30, #len(VOCAB), \n",
        "            embed_size=256,\n",
        "            decoder_hidden_size=512, \n",
        "            decoder_output_size=128,\n",
        "            projection_size= 128\n",
        ")\n",
        "\n",
        "model = model.to(DEVICE)\n",
        "print(model)\n",
        "\n",
        "# summary(model, \n",
        "#         x= example_batch[0].to(DEVICE), \n",
        "#         x_lens= example_batch[3], \n",
        "#         y= example_batch[1].to(DEVICE))"
      ]
    },
    {
      "cell_type": "markdown",
      "metadata": {
        "id": "TDmcYul-YSdC"
      },
      "source": [
        "## Optimizer, Scheduler, Loss"
      ]
    },
    {
      "cell_type": "code",
      "execution_count": 118,
      "metadata": {
        "id": "_HwmgDSvbtmd"
      },
      "outputs": [],
      "source": [
        "optimizer   = torch.optim.AdamW(model.parameters(), lr = config['lr'], amsgrad= True, weight_decay= 5e-6)\n",
        "criterion   = torch.nn.CrossEntropyLoss(reduction='none') # Why are we using reduction = 'none' ? \n",
        "scaler      = torch.cuda.amp.GradScaler()\n",
        "\n",
        "# Optional: Create a custom class for a Teacher Force Schedule \n",
        "from torch.optim.lr_scheduler import ReduceLROnPlateau\n",
        "scheduler = ReduceLROnPlateau(optimizer, min_lr=2e-8, patience=5, mode = 'min', factor = 0.3)"
      ]
    },
    {
      "cell_type": "markdown",
      "metadata": {
        "id": "baHCja89YV-m"
      },
      "source": [
        "# Levenshtein Distance"
      ]
    },
    {
      "cell_type": "code",
      "execution_count": null,
      "metadata": {
        "colab": {
          "base_uri": "https://localhost:8080/"
        },
        "id": "G-ojeznIzXZL",
        "outputId": "09f19d0b-6da0-42c7-843d-7953d8689219"
      },
      "outputs": [
        {
          "data": {
            "text/plain": [
              "0"
            ]
          },
          "execution_count": 32,
          "metadata": {},
          "output_type": "execute_result"
        }
      ],
      "source": [
        "SOS_TOKEN"
      ]
    },
    {
      "cell_type": "code",
      "execution_count": 119,
      "metadata": {
        "id": "GDYZnnLbqJ8J"
      },
      "outputs": [],
      "source": [
        "# We have given you this utility function which takes a sequence of indices and converts them to a list of characters\n",
        "def indices_to_chars(indices, vocab):\n",
        "    tokens = []\n",
        "    for i in indices: # This loops through all the indices\n",
        "        if int(i) == SOS_TOKEN: # If SOS is encountered, dont add it to the final list\n",
        "            continue\n",
        "        elif int(i) == EOS_TOKEN: # If EOS is encountered, stop the decoding process\n",
        "            break\n",
        "        else:\n",
        "            tokens.append(vocab[i])\n",
        "    return tokens\n",
        "\n",
        "# To make your life more easier, we have given the Levenshtein distantce / Edit distance calculation code\n",
        "def calc_edit_distance(predictions, y, ly, vocab= VOCAB, print_example= False):\n",
        "\n",
        "    dist                = 0\n",
        "    batch_size, seq_len = predictions.shape\n",
        "\n",
        "    for batch_idx in range(batch_size): \n",
        "\n",
        "        y_sliced    = indices_to_chars(y[batch_idx,0:ly[batch_idx]], vocab)\n",
        "        pred_sliced = indices_to_chars(predictions[batch_idx], vocab)\n",
        "\n",
        "        # Strings - When you are using characters from the AudioDataset\n",
        "        y_string    = ''.join(y_sliced)\n",
        "        pred_string = ''.join(pred_sliced)\n",
        "        \n",
        "        dist        += Levenshtein.distance(pred_string, y_string)\n",
        "        # Comment the above abd uncomment below for toy dataset \n",
        "        # dist      += Levenshtein.distance(y_sliced, pred_sliced)\n",
        "\n",
        "    if print_example: \n",
        "        # Print y_sliced and pred_sliced if you are using the toy dataset\n",
        "        print(\"Ground Truth : \", y_string)\n",
        "        print(\"Prediction   : \", pred_string)\n",
        "        \n",
        "    dist/=batch_size\n",
        "    return dist"
      ]
    },
    {
      "cell_type": "code",
      "execution_count": 120,
      "metadata": {
        "colab": {
          "base_uri": "https://localhost:8080/"
        },
        "id": "p60Or40qQNtD",
        "outputId": "0bb27898-39a9-4d32-de4d-720fe06e02eb"
      },
      "outputs": [
        {
          "data": {
            "text/plain": [
              "30"
            ]
          },
          "execution_count": 120,
          "metadata": {},
          "output_type": "execute_result"
        }
      ],
      "source": [
        "len(VOCAB)"
      ]
    },
    {
      "cell_type": "markdown",
      "metadata": {
        "id": "1zjfF88iZ4Nc"
      },
      "source": [
        "# Train and Evaluate"
      ]
    },
    {
      "cell_type": "code",
      "execution_count": 121,
      "metadata": {
        "id": "wIXzhQclhs98"
      },
      "outputs": [],
      "source": [
        "def train(model, dataloader, criterion, optimizer, teacher_forcing_rate):\n",
        "\n",
        "    model.train()\n",
        "    batch_bar = tqdm(total=len(dataloader), dynamic_ncols=True, leave=False, position=0, desc='Train')\n",
        "\n",
        "    running_loss        = 0.0\n",
        "    running_perplexity  = 0.0\n",
        "    \n",
        "    for i, (x, y, lx, ly) in enumerate(dataloader):\n",
        "\n",
        "        optimizer.zero_grad()\n",
        "\n",
        "        x, y, lx, ly = x.to(DEVICE), y.to(DEVICE), lx, ly\n",
        "\n",
        "        with torch.cuda.amp.autocast():\n",
        "\n",
        "            predictions, attention_plot = model(x, lx, y= y, tf_rate= teacher_forcing_rate)\n",
        "\n",
        "            # Predictions are of Shape (batch_size, timesteps, vocab_size). \n",
        "            # Transcripts are of shape (batch_size, timesteps) Which means that you have batch_size amount of batches with timestep number of tokens.\n",
        "            # So in total, you have batch_size*timesteps amount of characters.\n",
        "            # Similarly, in predictions, you have batch_size*timesteps amount of probability distributions.\n",
        "            # How do you need to modify transcipts and predictions so that you can calculate the CrossEntropyLoss? Hint: Use Reshape/View and read the docs\n",
        "            batch_size, timesteps, vocab_size = predictions.shape\n",
        "            loss        =  criterion(predictions.view(batch_size * timesteps, -1), y.view(batch_size * timesteps)) # TODO: Cross Entropy Loss\n",
        "\n",
        "            mask        = [0] * len(loss)\n",
        "            for j in range(batch_size):\n",
        "              start_idx = timesteps*j\n",
        "              mask[start_idx:start_idx+ly[j]] = [1]*ly[j]\n",
        "            # TODO: Create a boolean mask using the lengths of your transcript that remove the influence of padding indices (in transcripts) in the loss \n",
        "            masked_loss = torch.inner(loss, torch.tensor(mask[:len(loss)], dtype = torch.float).to(DEVICE)) / (sum(mask))# Product between the mask and the loss, divided by the mask's sum. Hint: You may want to reshape the mask too \n",
        "            perplexity  = torch.exp(masked_loss) # Perplexity is defined the exponential of the loss\n",
        "\n",
        "            running_loss        += masked_loss.item()\n",
        "            running_perplexity  += perplexity.item()\n",
        "        \n",
        "        # Backward on the masked loss\n",
        "        scaler.scale(masked_loss).backward()\n",
        "\n",
        "        # Optional: Use torch.nn.utils.clip_grad_norm to clip gradients to prevent them from exploding, if necessary\n",
        "        # If using with mixed precision, unscale the Optimizer First before doing gradient clipping\n",
        "        \n",
        "        scaler.step(optimizer)\n",
        "        scaler.update()\n",
        "        \n",
        "\n",
        "        batch_bar.set_postfix(\n",
        "            loss=\"{:.04f}\".format(running_loss/(i+1)),\n",
        "            perplexity=\"{:.04f}\".format(running_perplexity/(i+1)),\n",
        "            lr=\"{:.04f}\".format(float(optimizer.param_groups[0]['lr'])),\n",
        "            tf_rate='{:.02f}'.format(teacher_forcing_rate))\n",
        "        batch_bar.update()\n",
        "\n",
        "        del x, y, lx, ly\n",
        "        torch.cuda.empty_cache()\n",
        "\n",
        "    running_loss /= len(dataloader)\n",
        "    running_perplexity /= len(dataloader)\n",
        "    batch_bar.close()\n",
        "\n",
        "    return running_loss, running_perplexity, attention_plot"
      ]
    },
    {
      "cell_type": "code",
      "execution_count": 135,
      "metadata": {
        "collapsed": true,
        "id": "jzpCjd9R5VYV"
      },
      "outputs": [],
      "source": [
        "def validate(model, dataloader, criterion):\n",
        "\n",
        "    model.eval()\n",
        "\n",
        "    batch_bar = tqdm(total=len(dataloader), dynamic_ncols=True, position=0, leave=False, desc=\"Val\")\n",
        "\n",
        "    running_lev_dist = 0.0\n",
        "    running_loss = 0.0\n",
        "\n",
        "    for i, (x, y, lx, ly) in enumerate(dataloader):\n",
        "\n",
        "        x, y, lx, ly = x.to(DEVICE), y.to(DEVICE), lx, ly\n",
        "\n",
        "        with torch.inference_mode():\n",
        "            predictions, attentions = model(x, lx, y = None)\n",
        "\n",
        "        # Greedy Decoding\n",
        "        greedy_predictions = predictions.argmax(dim=2)# TODO: How do you get the most likely character from each distribution in the batch?\n",
        "\n",
        "        # Calculate Levenshtein Distance\n",
        "        running_lev_dist    += calc_edit_distance(greedy_predictions, y, ly, VOCAB, print_example = False) # You can use print_example = True for one specific index i in your batches if you want\n",
        "        \n",
        "        # Val Loss\n",
        "        batch_size, timesteps = y.shape\n",
        "        loss        =  criterion(predictions[:, :y.shape[1], :].reshape(batch_size * timesteps, -1), y.view(batch_size * timesteps)) # TODO: Cross Entropy Loss\n",
        "\n",
        "        mask        = [0] * len(loss)\n",
        "        for j in range(batch_size):\n",
        "              start_idx = timesteps*j\n",
        "              mask[start_idx:start_idx+ly[j]] = [1]*ly[j]\n",
        "            # TODO: Create a boolean mask using the lengths of your transcript that remove the influence of padding indices (in transcripts) in the loss \n",
        "        masked_loss = torch.inner(loss, torch.tensor(mask[:len(loss)], dtype = torch.float).to(DEVICE)) / (sum(mask))\n",
        "\n",
        "        running_loss        += masked_loss.item()\n",
        "\n",
        "        batch_bar.set_postfix(\n",
        "            dist=\"{:.04f}\".format(running_lev_dist/(i+1)))\n",
        "        batch_bar.update()\n",
        "\n",
        "        del x, y, lx, ly\n",
        "        torch.cuda.empty_cache()\n",
        "\n",
        "    batch_bar.close()\n",
        "    running_lev_dist /= len(dataloader)\n",
        "\n",
        "    return running_lev_dist, running_loss#, running_perplexity, "
      ]
    },
    {
      "cell_type": "markdown",
      "metadata": {
        "id": "G9uRTbbPkeL-"
      },
      "source": [
        "# Wandb"
      ]
    },
    {
      "cell_type": "code",
      "execution_count": 123,
      "metadata": {
        "colab": {
          "base_uri": "https://localhost:8080/"
        },
        "id": "Fhw3-pkR21GX",
        "outputId": "4c0bf3b7-ade8-4834-979b-93c842204807"
      },
      "outputs": [
        {
          "name": "stderr",
          "output_type": "stream",
          "text": [
            "\u001b[34m\u001b[1mwandb\u001b[0m: \u001b[33mWARNING\u001b[0m Calling wandb.login() after wandb.init() has no effect.\n"
          ]
        },
        {
          "data": {
            "text/plain": [
              "True"
            ]
          },
          "execution_count": 123,
          "metadata": {},
          "output_type": "execute_result"
        }
      ],
      "source": [
        "import wandb\n",
        "wandb.login(key=\"eeee2a3ee6d481f891d9e3f8fa8375f9ba499d0d\")"
      ]
    },
    {
      "cell_type": "code",
      "execution_count": 124,
      "metadata": {
        "colab": {
          "base_uri": "https://localhost:8080/",
          "height": 181,
          "referenced_widgets": [
            "7b90c856ef2a4855ac53eb6470816737"
          ]
        },
        "id": "qVVo8bAab_5N",
        "outputId": "62b6218d-858c-4698-9f6c-c2e36d77c6bb"
      },
      "outputs": [
        {
          "data": {
            "text/html": [
              "Finishing last run (ID:56gu41j1) before initializing another..."
            ],
            "text/plain": [
              "<IPython.core.display.HTML object>"
            ]
          },
          "metadata": {},
          "output_type": "display_data"
        },
        {
          "data": {
            "text/html": [
              "Waiting for W&B process to finish... <strong style=\"color:green\">(success).</strong>"
            ],
            "text/plain": [
              "<IPython.core.display.HTML object>"
            ]
          },
          "metadata": {},
          "output_type": "display_data"
        },
        {
          "data": {
            "application/vnd.jupyter.widget-view+json": {
              "model_id": "7b90c856ef2a4855ac53eb6470816737",
              "version_major": 2,
              "version_minor": 0
            },
            "text/plain": [
              "VBox(children=(Label(value='0.001 MB of 0.001 MB uploaded (0.000 MB deduped)\\r'), FloatProgress(value=1.0, max…"
            ]
          },
          "metadata": {},
          "output_type": "display_data"
        },
        {
          "data": {
            "text/html": [
              "Synced <strong style=\"color:#cdcd00\">try5</strong>: <a href=\"https://wandb.ai/woohyunc/hw4p2-ablations/runs/56gu41j1\" target=\"_blank\">https://wandb.ai/woohyunc/hw4p2-ablations/runs/56gu41j1</a><br/>Synced 5 W&B file(s), 0 media file(s), 0 artifact file(s) and 0 other file(s)"
            ],
            "text/plain": [
              "<IPython.core.display.HTML object>"
            ]
          },
          "metadata": {},
          "output_type": "display_data"
        },
        {
          "data": {
            "text/html": [
              "Find logs at: <code>./wandb/run-20221228_204855-56gu41j1/logs</code>"
            ],
            "text/plain": [
              "<IPython.core.display.HTML object>"
            ]
          },
          "metadata": {},
          "output_type": "display_data"
        },
        {
          "data": {
            "text/html": [
              "Successfully finished last run (ID:56gu41j1). Initializing new run:<br/>"
            ],
            "text/plain": [
              "<IPython.core.display.HTML object>"
            ]
          },
          "metadata": {},
          "output_type": "display_data"
        },
        {
          "data": {
            "text/html": [
              "Tracking run with wandb version 0.13.7"
            ],
            "text/plain": [
              "<IPython.core.display.HTML object>"
            ]
          },
          "metadata": {},
          "output_type": "display_data"
        },
        {
          "data": {
            "text/html": [
              "Run data is saved locally in <code>/content/wandb/run-20221228_205916-rhxebqt2</code>"
            ],
            "text/plain": [
              "<IPython.core.display.HTML object>"
            ]
          },
          "metadata": {},
          "output_type": "display_data"
        },
        {
          "data": {
            "text/html": [
              "Syncing run <strong><a href=\"https://wandb.ai/woohyunc/hw4p2-ablations/runs/rhxebqt2\" target=\"_blank\">try5</a></strong> to <a href=\"https://wandb.ai/woohyunc/hw4p2-ablations\" target=\"_blank\">Weights & Biases</a> (<a href=\"https://wandb.me/run\" target=\"_blank\">docs</a>)<br/>"
            ],
            "text/plain": [
              "<IPython.core.display.HTML object>"
            ]
          },
          "metadata": {},
          "output_type": "display_data"
        }
      ],
      "source": [
        "# Login to Wandb\n",
        "# Initialize your Wandb Run Here\n",
        "# Optional: Save your model architecture in a txt file, and save the file to Wandb\n",
        "run = wandb.init(\n",
        "    settings=wandb.Settings(start_method=\"thread\"),\n",
        "    name = \"try5\", ## Wandb creates random run names if you skip this field\n",
        "    reinit = True, ### Allows reinitalizing runs when you re-run this cell\n",
        "    # run_id = ### Insert specific run id here if you want to resume a previous run\n",
        "    # resume = \"must\" ### You need this to resume previous runs, but comment out reinit = True when using this\n",
        "    project = \"hw4p2-ablations\", ### Project should be created in your wandb account \n",
        "    config = config ### Wandb Config for your run\n",
        ")"
      ]
    },
    {
      "cell_type": "markdown",
      "metadata": {
        "id": "99rJQUdPkCUq"
      },
      "source": [
        "# Experiments"
      ]
    },
    {
      "cell_type": "code",
      "execution_count": null,
      "metadata": {
        "colab": {
          "base_uri": "https://localhost:8080/",
          "height": 770,
          "referenced_widgets": [
            "8685dc8d37734533927af9b71ae2e4e4",
            "08053f77bbb94917a270a6d53ab6c49a",
            "129d84ea9ce74b2b90672d7d11379b81",
            "dd56db971a7a4ab0bca0f6a132f85ab9",
            "fc50623f6f3646579e6c26cebc96897d",
            "b8a5a447e0014ab0ac3599753ca405b0",
            "6597349b0f194dc7a6c83d9b392c6bf5",
            "1bc7b74629b640819038b53cc3a33a89",
            "8e22cfd96f134dbda2c0dccc301d5e2c",
            "27d2d44938f541e7af1918e64efd00cc",
            "9108f0a821c64b699433d38ce2eb5738",
            "22f9541de6e2487ba418813ab5d3142d",
            "aacdbfc87e6145b28641b19491449bdd",
            "b51b930a644f4b43add2667d4948b220",
            "2002ba527dd14dd4bb6343446afcba09",
            "2ac0b66520284db5979e06814f47ca2f",
            "63c4a5dcc4ce401db4dba32de36c0620",
            "74a32855871c49a4ae9173fa440ebea3",
            "1488de4c3e764fa6b2a475d353c8748b",
            "cc689033195748c0b1b2fba6e33e5b71",
            "841a8a43c17c4b159fbbf4aba7271b38",
            "b826197c44a14850aace068143c1b69b",
            "2eba3357cc3443e1b7f1572733d2a701",
            "0e1f85bb646e4ed988127a722ae5ad77",
            "3dab03a0401e4e1884b791fc9f414c5b",
            "c0d47493f3024de1b4cf3172fde0a448",
            "ff8796fd641e40a79c179719f1f29e7b",
            "79d80a0527e84bcdb536db8aa895f0a2",
            "1d4d646de47f4137bd26974c71ef5e80",
            "dc27a4f7d9ed4cfaad63db023ead50e7",
            "d5d192a027d5421ab8f08c40fcb3ea2e",
            "fd0f9af556334fe68e11d369e176b7c8",
            "e572fbd8a70e488aa196afc4403d4c29",
            "4afcf1f23ae949ff97169cc9c5d82aa4",
            "63697af2cbae4ea387d113b9a53e8511",
            "16cf32942dbe4ce3a55d85366be153cd",
            "16dec937f21e414cbeda5e628784b342",
            "3ab25ae01cc7437e9cb9112460ffc0db",
            "118e97a2846d472a8769a0b9db5ae9b7",
            "e064ca4e5f8c4f9fb50b27fb3f8cfaed",
            "e7138586e67d4c7cafe5118834ad1f0c",
            "f38240f50867427e9d83b67b0dd6efe9",
            "37d195bbf0774f51a3165976e703921d",
            "6e3f3ddbf2444271b27a7d09474c859b",
            "c24df90123f348bd8b72164380da4f4c",
            "3ffa953c90fc40d58d5da26ea5f33a45",
            "0cd6c2cbee304cdf97a218086480ff97",
            "f3685f3f7c7b470dbf74a3650d49b9e8",
            "93c00db3609f4b8cbd56f684c7cfb4fe",
            "14dbb9040cb14646a48e7a21eb792c0a",
            "a55f51301ddd487c88d84916db4f6f18",
            "808256895d6c4feabdb5413e4acef401",
            "f88f0044742d418e817c4d0729a9c31d",
            "091f0e43fc4e4fb2b9d4ce95de3082ae",
            "76950c04c816438f890b4ba00c974109"
          ]
        },
        "id": "s12S_bPMcguA",
        "outputId": "e9759122-abd3-49a5-c5d6-325138b52437"
      },
      "outputs": [
        {
          "name": "stdout",
          "output_type": "stream",
          "text": [
            "\n",
            "Epoch: 1/70\n"
          ]
        },
        {
          "data": {
            "application/vnd.jupyter.widget-view+json": {
              "model_id": "8685dc8d37734533927af9b71ae2e4e4",
              "version_major": 2,
              "version_minor": 0
            },
            "text/plain": [
              "Train:   0%|          | 0/223 [00:00<?, ?it/s]"
            ]
          },
          "metadata": {},
          "output_type": "display_data"
        },
        {
          "data": {
            "application/vnd.jupyter.widget-view+json": {
              "model_id": "22f9541de6e2487ba418813ab5d3142d",
              "version_major": 2,
              "version_minor": 0
            },
            "text/plain": [
              "Val:   0%|          | 0/22 [00:00<?, ?it/s]"
            ]
          },
          "metadata": {},
          "output_type": "display_data"
        },
        {
          "name": "stdout",
          "output_type": "stream",
          "text": [
            "\n",
            "Epoch 1/70: \n",
            "Train Loss 1.3138\t Learning Rate 0.0010\n"
          ]
        },
        {
          "data": {
            "image/png": "[encoded data removed]",
            "text/plain": [
              "<Figure size 432x288 with 2 Axes>"
            ]
          },
          "metadata": {
            "needs_background": "light"
          },
          "output_type": "display_data"
        },
        {
          "name": "stdout",
          "output_type": "stream",
          "text": [
            "\n",
            "Epoch: 2/70\n"
          ]
        },
        {
          "data": {
            "application/vnd.jupyter.widget-view+json": {
              "model_id": "2eba3357cc3443e1b7f1572733d2a701",
              "version_major": 2,
              "version_minor": 0
            },
            "text/plain": [
              "Train:   0%|          | 0/223 [00:00<?, ?it/s]"
            ]
          },
          "metadata": {},
          "output_type": "display_data"
        },
        {
          "data": {
            "application/vnd.jupyter.widget-view+json": {
              "model_id": "4afcf1f23ae949ff97169cc9c5d82aa4",
              "version_major": 2,
              "version_minor": 0
            },
            "text/plain": [
              "Val:   0%|          | 0/22 [00:00<?, ?it/s]"
            ]
          },
          "metadata": {},
          "output_type": "display_data"
        },
        {
          "name": "stdout",
          "output_type": "stream",
          "text": [
            "\n",
            "Epoch 2/70: \n",
            "Train Loss 1.2418\t Learning Rate 0.0010\n"
          ]
        },
        {
          "data": {
            "image/png": "[encoded data removed]",
            "text/plain": [
              "<Figure size 432x288 with 2 Axes>"
            ]
          },
          "metadata": {
            "needs_background": "light"
          },
          "output_type": "display_data"
        },
        {
          "name": "stdout",
          "output_type": "stream",
          "text": [
            "\n",
            "Epoch: 3/70\n"
          ]
        },
        {
          "data": {
            "application/vnd.jupyter.widget-view+json": {
              "model_id": "c24df90123f348bd8b72164380da4f4c",
              "version_major": 2,
              "version_minor": 0
            },
            "text/plain": [
              "Train:   0%|          | 0/223 [00:00<?, ?it/s]"
            ]
          },
          "metadata": {},
          "output_type": "display_data"
        }
      ],
      "source": [
        "best_lev_dist = float(\"inf\")\n",
        "tf_rate = 1.0\n",
        "\n",
        "for epoch in range(config['epochs']):\n",
        "    curr_lr = float(optimizer.param_groups[-1]['lr'])\n",
        "    \n",
        "    print(\"\\nEpoch: {}/{}\".format(epoch+1, config['epochs']))\n",
        "\n",
        "    # Call train and validate \n",
        "    train_loss, _, attention_plot = train(model, train_loader, criterion, optimizer, tf_rate)\n",
        "    valid_dist, val_loss = validate(model, val_loader, criterion)\n",
        "\n",
        "    # Print your metrics\n",
        "    print(\"\\nEpoch {}/{}: \\nTrain Loss {:.04f}\\t Learning Rate {:.04f}\".format(\n",
        "        epoch + 1,\n",
        "        config['epochs'],\n",
        "        train_loss,\n",
        "        curr_lr))\n",
        "\n",
        "    # Plot Attention \n",
        "    plot_attention(attention_plot)\n",
        "\n",
        "    # Log metrics to Wandb\n",
        "    wandb.log({\"train_loss\":train_loss, \"valid_dist\":valid_dist, \"learning_Rate\": curr_lr, \"val_loss\":val_loss})\n",
        "\n",
        "    # Optional: Scheduler Step / Teacher Force Schedule Step\n",
        "    scheduler.step(val_loss)\n",
        "\n",
        "\n",
        "    if valid_dist <= best_lev_dist:\n",
        "        best_lev_dist = valid_dist\n",
        "        # Save your model checkpoint here\n",
        "\n",
        "        torch.save({'model_state_dict':model.state_dict(),\n",
        "                  'optimizer_state_dict':optimizer.state_dict(),\n",
        "                  'epoch': epoch}, '/content/drive/MyDrive/IDL/HW4/checkpoint_128.pth')"
      ]
    },
    {
      "cell_type": "markdown",
      "metadata": {
        "id": "r3iickk_kJNB"
      },
      "source": [
        "# Testing"
      ]
    },
    {
      "cell_type": "code",
      "execution_count": null,
      "metadata": {
        "colab": {
          "base_uri": "https://localhost:8080/"
        },
        "id": "s7HihzA4ViiR",
        "outputId": "6beb03a3-9a82-492a-eb7c-29d757d6fc0c"
      },
      "outputs": [
        {
          "data": {
            "text/plain": [
              "<All keys matched successfully>"
            ]
          },
          "execution_count": 125,
          "metadata": {},
          "output_type": "execute_result"
        }
      ],
      "source": [
        "# Optional: Load your best model Checkpoint here\n",
        "model1 = LAS(input_size=15, \n",
        "            encoder_hidden_size=256, \n",
        "            vocab_size=30, #len(VOCAB), \n",
        "            embed_size=256,\n",
        "            decoder_hidden_size=512, \n",
        "            decoder_output_size=128,\n",
        "            projection_size= 128\n",
        "          ).to(device)\n",
        "# model1.load_state_dict(torch.load('/content/drive/MyDrive/IDL/HW4/v12.pth')['model_state_dict'])\n",
        "model1.load_state_dict(torch.load('/content/checkpoint.pth')['model_state_dict'])"
      ]
    },
    {
      "cell_type": "code",
      "execution_count": null,
      "metadata": {
        "colab": {
          "base_uri": "https://localhost:8080/"
        },
        "id": "s-SpkZ0RIrIt",
        "outputId": "2b94f6bb-bfe2-49f3-ed87-4670bd7b05b8"
      },
      "outputs": [
        {
          "data": {
            "text/plain": [
              "['<sos>',\n",
              " 'A',\n",
              " 'B',\n",
              " 'C',\n",
              " 'D',\n",
              " 'E',\n",
              " 'F',\n",
              " 'G',\n",
              " 'H',\n",
              " 'I',\n",
              " 'J',\n",
              " 'K',\n",
              " 'L',\n",
              " 'M',\n",
              " 'N',\n",
              " 'O',\n",
              " 'P',\n",
              " 'Q',\n",
              " 'R',\n",
              " 'S',\n",
              " 'T',\n",
              " 'U',\n",
              " 'V',\n",
              " 'W',\n",
              " 'X',\n",
              " 'Y',\n",
              " 'Z',\n",
              " \"'\",\n",
              " ' ',\n",
              " '<eos>']"
            ]
          },
          "execution_count": 70,
          "metadata": {},
          "output_type": "execute_result"
        }
      ],
      "source": [
        "VOCAB"
      ]
    },
    {
      "cell_type": "code",
      "execution_count": null,
      "metadata": {
        "id": "lQ0BD6CiIJqf"
      },
      "outputs": [],
      "source": [
        "def make_output(h, lh, decoder_test, LABELS):\n",
        "    beam_results, beam_scores, timesteps, out_seq_len = decoder_test.decode(h, seq_lens=lh) #TODO: What parameters would the decode function take in?\n",
        "    batch_size = beam_results.shape[0]\n",
        "\n",
        "    preds = []\n",
        "    for i in range(batch_size): # Loop through each element in the batch\n",
        "        h_sliced = beam_results[i][0][:out_seq_len[i][0]]#TODO: Obtain the beam results\n",
        "        h_string = [str(LABELS[i]) for i in h_sliced]#TODO: Convert the beam results to phonemes\n",
        "        h_string = \"\".join(h_string)\n",
        "        preds.append(h_string)\n",
        "    \n",
        "    return preds"
      ]
    },
    {
      "cell_type": "code",
      "execution_count": null,
      "metadata": {
        "id": "mTBD49c_kKs3"
      },
      "outputs": [],
      "source": [
        "# TODO: Create a testing function similar to validation \n",
        "def test(model, dataloader):\n",
        "\n",
        "    model.eval()\n",
        "\n",
        "    batch_bar = tqdm(total=len(dataloader), dynamic_ncols=True, position=0, leave=False, desc=\"Test\")\n",
        "    test_results = []\n",
        "\n",
        "    for i, (x, lx) in enumerate(dataloader):\n",
        "\n",
        "        x,lx= x.to(DEVICE),lx\n",
        "\n",
        "\n",
        "        with torch.inference_mode():\n",
        "            predictions, attentions = model(x, lx, y = None)\n",
        "\n",
        "        # Greedy Decoding\n",
        "        greedy_predictions = predictions.argmax(dim=2)# TODO: How do you get the most likely character from each distribution in the batch?\n",
        "\n",
        "        batch_bar.update()\n",
        "\n",
        "        preds = []\n",
        "        for j in range(len(greedy_predictions)):\n",
        "          lst = [VOCAB[k] for k in greedy_predictions[j, :lx[j]]]\n",
        "          if '<eos>' in lst:\n",
        "            eos_idx = lst.index('<eos>')\n",
        "\n",
        "            string = \"\".join(lst[1:eos_idx])\n",
        "            preds.append(string)\n",
        "          else: preds.append(\"\".join(lst[1:]))\n",
        "        \n",
        "        test_results.extend(preds)\n",
        "\n",
        "        del x, lx\n",
        "        torch.cuda.empty_cache()\n",
        "\n",
        "    batch_bar.close()\n",
        "    #print(test_results)\n",
        "    return test_results\n",
        "\n",
        "# TODO: Create a file with all predictions \n",
        "# TODO: Submit to Kaggle"
      ]
    },
    {
      "cell_type": "code",
      "execution_count": null,
      "metadata": {
        "colab": {
          "base_uri": "https://localhost:8080/",
          "height": 16,
          "referenced_widgets": [
            "446e2e24f8d14803a101c4b1d9837ced",
            "324c32ca7fd4454bb7e2d18d80458214",
            "cb44d8ac1c1b4c09ba0e06a45b7aa687",
            "247fa2b2e25f413faf6d01d25ca92847",
            "02bc74ab51aa488d9c8a8a9eb05cd0b6",
            "e598b4bbef34476285b847f8da216454",
            "521ab3045901466cb188811a1e0aaa3a",
            "9574094e96f94912aac3131635c95363",
            "d809ca288718440f89d8135d980805e7",
            "fe5b08f389584fd8868a8042c0f057ae",
            "e2fff0bbbcc34f4aacf2ce7b31974eac"
          ]
        },
        "id": "aKpF0T3KJ5z2",
        "outputId": "a9b482b6-04ab-46b8-d48a-20c031830a71"
      },
      "outputs": [
        {
          "data": {
            "application/vnd.jupyter.widget-view+json": {
              "model_id": "446e2e24f8d14803a101c4b1d9837ced",
              "version_major": 2,
              "version_minor": 0
            },
            "text/plain": [
              "Test:   0%|          | 0/41 [00:00<?, ?it/s]"
            ]
          },
          "metadata": {},
          "output_type": "display_data"
        }
      ],
      "source": [
        "prediction = test(model, test_loader)"
      ]
    },
    {
      "cell_type": "code",
      "execution_count": null,
      "metadata": {
        "colab": {
          "base_uri": "https://localhost:8080/",
          "height": 34
        },
        "id": "UUWRtX8AaZOm",
        "outputId": "0c6cd1e7-1067-40ca-a57e-6bcbee6cfc82"
      },
      "outputs": [
        {
          "data": {
            "application/vnd.google.colaboratory.intrinsic+json": {
              "type": "string"
            },
            "text/plain": [
              "'HE BECAME A CONFUSED COMPLAINTATO GENTLE WISHER WHO HAD VANISHED BEHIND THE CURTAIN ON THE LEFT'"
            ]
          },
          "execution_count": 147,
          "metadata": {},
          "output_type": "execute_result"
        }
      ],
      "source": [
        "prediction[0]"
      ]
    },
    {
      "cell_type": "code",
      "execution_count": null,
      "metadata": {
        "colab": {
          "base_uri": "https://localhost:8080/"
        },
        "id": "6xFERQW3Kdjj",
        "outputId": "6f628214-aad3-48f6-e1f9-72350362c504"
      },
      "outputs": [
        {
          "name": "stdout",
          "output_type": "stream",
          "text": [
            "Warning: Looks like you're using an outdated API Version, please consider updating (server 1.5.12 / client 1.5.8)\n",
            "100% 301k/301k [00:02<00:00, 122kB/s]\n",
            "Successfully submitted to Attention-Based Speech Recognition"
          ]
        }
      ],
      "source": [
        "torch.cuda.empty_cache()\n",
        "#predictions = predict(test_loader, model1, decoder_test, LABELS)\n",
        "import pandas as pd\n",
        "\n",
        "df = pd.read_csv('/content/drive/MyDrive/IDL/HW4/data/hw4p2/test-clean/transcript/random_submission.csv')\n",
        "df.label = prediction\n",
        "df = df.rename(columns={\"index\": \"id\", \"label\": \"label\"})\n",
        "\n",
        "df.to_csv('submission.csv', index = False)\n",
        "\n",
        "!kaggle competitions submit -c 11-785-f22-hw4p2 -f submission.csv -m \"Message\""
      ]
    },
    {
      "cell_type": "code",
      "execution_count": null,
      "metadata": {
        "id": "lqgtALmXNY-B"
      },
      "outputs": [],
      "source": []
    }
  ],
  "metadata": {
    "accelerator": "GPU",
    "colab": {
      "provenance": []
    },
    "gpuClass": "standard",
    "kernelspec": {
      "display_name": "Python 3.8.15 ('IDL')",
      "language": "python",
      "name": "python3"
    },
    "language_info": {
      "codemirror_mode": {
        "name": "ipython",
        "version": 3
      },
      "file_extension": ".py",
      "mimetype": "text/x-python",
      "name": "python",
      "nbconvert_exporter": "python",
      "pygments_lexer": "ipython3",
      "version": "3.8.15"
    },
    "vscode": {
      "interpreter": {
        "hash": "fffdd022f36d5bb59125dd46e70308eea6a9202a7f49dec9884d1f4a82c91f26"
      }
    },
    "widgets": {
      "application/vnd.jupyter.widget-state+json": {
        "02bc74ab51aa488d9c8a8a9eb05cd0b6": {
          "model_module": "@jupyter-widgets/base",
          "model_module_version": "1.2.0",
          "model_name": "LayoutModel",
          "state": {
            "_model_module": "@jupyter-widgets/base",
            "_model_module_version": "1.2.0",
            "_model_name": "LayoutModel",
            "_view_count": null,
            "_view_module": "@jupyter-widgets/base",
            "_view_module_version": "1.2.0",
            "_view_name": "LayoutView",
            "align_content": null,
            "align_items": null,
            "align_self": null,
            "border": null,
            "bottom": null,
            "display": "inline-flex",
            "flex": null,
            "flex_flow": "row wrap",
            "grid_area": null,
            "grid_auto_columns": null,
            "grid_auto_flow": null,
            "grid_auto_rows": null,
            "grid_column": null,
            "grid_gap": null,
            "grid_row": null,
            "grid_template_areas": null,
            "grid_template_columns": null,
            "grid_template_rows": null,
            "height": null,
            "justify_content": null,
            "justify_items": null,
            "left": null,
            "margin": null,
            "max_height": null,
            "max_width": null,
            "min_height": null,
            "min_width": null,
            "object_fit": null,
            "object_position": null,
            "order": null,
            "overflow": null,
            "overflow_x": null,
            "overflow_y": null,
            "padding": null,
            "right": null,
            "top": null,
            "visibility": "hidden",
            "width": "100%"
          }
        },
        "08053f77bbb94917a270a6d53ab6c49a": {
          "model_module": "@jupyter-widgets/controls",
          "model_module_version": "1.5.0",
          "model_name": "HTMLModel",
          "state": {
            "_dom_classes": [],
            "_model_module": "@jupyter-widgets/controls",
            "_model_module_version": "1.5.0",
            "_model_name": "HTMLModel",
            "_view_count": null,
            "_view_module": "@jupyter-widgets/controls",
            "_view_module_version": "1.5.0",
            "_view_name": "HTMLView",
            "description": "",
            "description_tooltip": null,
            "layout": "IPY_MODEL_b8a5a447e0014ab0ac3599753ca405b0",
            "placeholder": "​",
            "style": "IPY_MODEL_6597349b0f194dc7a6c83d9b392c6bf5",
            "value": "Train: 100%"
          }
        },
        "091f0e43fc4e4fb2b9d4ce95de3082ae": {
          "model_module": "@jupyter-widgets/base",
          "model_module_version": "1.2.0",
          "model_name": "LayoutModel",
          "state": {
            "_model_module": "@jupyter-widgets/base",
            "_model_module_version": "1.2.0",
            "_model_name": "LayoutModel",
            "_view_count": null,
            "_view_module": "@jupyter-widgets/base",
            "_view_module_version": "1.2.0",
            "_view_name": "LayoutView",
            "align_content": null,
            "align_items": null,
            "align_self": null,
            "border": null,
            "bottom": null,
            "display": null,
            "flex": null,
            "flex_flow": null,
            "grid_area": null,
            "grid_auto_columns": null,
            "grid_auto_flow": null,
            "grid_auto_rows": null,
            "grid_column": null,
            "grid_gap": null,
            "grid_row": null,
            "grid_template_areas": null,
            "grid_template_columns": null,
            "grid_template_rows": null,
            "height": null,
            "justify_content": null,
            "justify_items": null,
            "left": null,
            "margin": null,
            "max_height": null,
            "max_width": null,
            "min_height": null,
            "min_width": null,
            "object_fit": null,
            "object_position": null,
            "order": null,
            "overflow": null,
            "overflow_x": null,
            "overflow_y": null,
            "padding": null,
            "right": null,
            "top": null,
            "visibility": null,
            "width": null
          }
        },
        "0cd6c2cbee304cdf97a218086480ff97": {
          "model_module": "@jupyter-widgets/controls",
          "model_module_version": "1.5.0",
          "model_name": "FloatProgressModel",
          "state": {
            "_dom_classes": [],
            "_model_module": "@jupyter-widgets/controls",
            "_model_module_version": "1.5.0",
            "_model_name": "FloatProgressModel",
            "_view_count": null,
            "_view_module": "@jupyter-widgets/controls",
            "_view_module_version": "1.5.0",
            "_view_name": "ProgressView",
            "bar_style": "",
            "description": "",
            "description_tooltip": null,
            "layout": "IPY_MODEL_808256895d6c4feabdb5413e4acef401",
            "max": 223,
            "min": 0,
            "orientation": "horizontal",
            "style": "IPY_MODEL_f88f0044742d418e817c4d0729a9c31d",
            "value": 220
          }
        },
        "0e1f85bb646e4ed988127a722ae5ad77": {
          "model_module": "@jupyter-widgets/controls",
          "model_module_version": "1.5.0",
          "model_name": "HTMLModel",
          "state": {
            "_dom_classes": [],
            "_model_module": "@jupyter-widgets/controls",
            "_model_module_version": "1.5.0",
            "_model_name": "HTMLModel",
            "_view_count": null,
            "_view_module": "@jupyter-widgets/controls",
            "_view_module_version": "1.5.0",
            "_view_name": "HTMLView",
            "description": "",
            "description_tooltip": null,
            "layout": "IPY_MODEL_79d80a0527e84bcdb536db8aa895f0a2",
            "placeholder": "​",
            "style": "IPY_MODEL_1d4d646de47f4137bd26974c71ef5e80",
            "value": "Train: 100%"
          }
        },
        "118e97a2846d472a8769a0b9db5ae9b7": {
          "model_module": "@jupyter-widgets/base",
          "model_module_version": "1.2.0",
          "model_name": "LayoutModel",
          "state": {
            "_model_module": "@jupyter-widgets/base",
            "_model_module_version": "1.2.0",
            "_model_name": "LayoutModel",
            "_view_count": null,
            "_view_module": "@jupyter-widgets/base",
            "_view_module_version": "1.2.0",
            "_view_name": "LayoutView",
            "align_content": null,
            "align_items": null,
            "align_self": null,
            "border": null,
            "bottom": null,
            "display": null,
            "flex": null,
            "flex_flow": null,
            "grid_area": null,
            "grid_auto_columns": null,
            "grid_auto_flow": null,
            "grid_auto_rows": null,
            "grid_column": null,
            "grid_gap": null,
            "grid_row": null,
            "grid_template_areas": null,
            "grid_template_columns": null,
            "grid_template_rows": null,
            "height": null,
            "justify_content": null,
            "justify_items": null,
            "left": null,
            "margin": null,
            "max_height": null,
            "max_width": null,
            "min_height": null,
            "min_width": null,
            "object_fit": null,
            "object_position": null,
            "order": null,
            "overflow": null,
            "overflow_x": null,
            "overflow_y": null,
            "padding": null,
            "right": null,
            "top": null,
            "visibility": null,
            "width": null
          }
        },
        "129d84ea9ce74b2b90672d7d11379b81": {
          "model_module": "@jupyter-widgets/controls",
          "model_module_version": "1.5.0",
          "model_name": "FloatProgressModel",
          "state": {
            "_dom_classes": [],
            "_model_module": "@jupyter-widgets/controls",
            "_model_module_version": "1.5.0",
            "_model_name": "FloatProgressModel",
            "_view_count": null,
            "_view_module": "@jupyter-widgets/controls",
            "_view_module_version": "1.5.0",
            "_view_name": "ProgressView",
            "bar_style": "",
            "description": "",
            "description_tooltip": null,
            "layout": "IPY_MODEL_1bc7b74629b640819038b53cc3a33a89",
            "max": 223,
            "min": 0,
            "orientation": "horizontal",
            "style": "IPY_MODEL_8e22cfd96f134dbda2c0dccc301d5e2c",
            "value": 223
          }
        },
        "1488de4c3e764fa6b2a475d353c8748b": {
          "model_module": "@jupyter-widgets/base",
          "model_module_version": "1.2.0",
          "model_name": "LayoutModel",
          "state": {
            "_model_module": "@jupyter-widgets/base",
            "_model_module_version": "1.2.0",
            "_model_name": "LayoutModel",
            "_view_count": null,
            "_view_module": "@jupyter-widgets/base",
            "_view_module_version": "1.2.0",
            "_view_name": "LayoutView",
            "align_content": null,
            "align_items": null,
            "align_self": null,
            "border": null,
            "bottom": null,
            "display": null,
            "flex": "2",
            "flex_flow": null,
            "grid_area": null,
            "grid_auto_columns": null,
            "grid_auto_flow": null,
            "grid_auto_rows": null,
            "grid_column": null,
            "grid_gap": null,
            "grid_row": null,
            "grid_template_areas": null,
            "grid_template_columns": null,
            "grid_template_rows": null,
            "height": null,
            "justify_content": null,
            "justify_items": null,
            "left": null,
            "margin": null,
            "max_height": null,
            "max_width": null,
            "min_height": null,
            "min_width": null,
            "object_fit": null,
            "object_position": null,
            "order": null,
            "overflow": null,
            "overflow_x": null,
            "overflow_y": null,
            "padding": null,
            "right": null,
            "top": null,
            "visibility": null,
            "width": null
          }
        },
        "14dbb9040cb14646a48e7a21eb792c0a": {
          "model_module": "@jupyter-widgets/base",
          "model_module_version": "1.2.0",
          "model_name": "LayoutModel",
          "state": {
            "_model_module": "@jupyter-widgets/base",
            "_model_module_version": "1.2.0",
            "_model_name": "LayoutModel",
            "_view_count": null,
            "_view_module": "@jupyter-widgets/base",
            "_view_module_version": "1.2.0",
            "_view_name": "LayoutView",
            "align_content": null,
            "align_items": null,
            "align_self": null,
            "border": null,
            "bottom": null,
            "display": null,
            "flex": null,
            "flex_flow": null,
            "grid_area": null,
            "grid_auto_columns": null,
            "grid_auto_flow": null,
            "grid_auto_rows": null,
            "grid_column": null,
            "grid_gap": null,
            "grid_row": null,
            "grid_template_areas": null,
            "grid_template_columns": null,
            "grid_template_rows": null,
            "height": null,
            "justify_content": null,
            "justify_items": null,
            "left": null,
            "margin": null,
            "max_height": null,
            "max_width": null,
            "min_height": null,
            "min_width": null,
            "object_fit": null,
            "object_position": null,
            "order": null,
            "overflow": null,
            "overflow_x": null,
            "overflow_y": null,
            "padding": null,
            "right": null,
            "top": null,
            "visibility": null,
            "width": null
          }
        },
        "16cf32942dbe4ce3a55d85366be153cd": {
          "model_module": "@jupyter-widgets/controls",
          "model_module_version": "1.5.0",
          "model_name": "FloatProgressModel",
          "state": {
            "_dom_classes": [],
            "_model_module": "@jupyter-widgets/controls",
            "_model_module_version": "1.5.0",
            "_model_name": "FloatProgressModel",
            "_view_count": null,
            "_view_module": "@jupyter-widgets/controls",
            "_view_module_version": "1.5.0",
            "_view_name": "ProgressView",
            "bar_style": "",
            "description": "",
            "description_tooltip": null,
            "layout": "IPY_MODEL_e7138586e67d4c7cafe5118834ad1f0c",
            "max": 22,
            "min": 0,
            "orientation": "horizontal",
            "style": "IPY_MODEL_f38240f50867427e9d83b67b0dd6efe9",
            "value": 22
          }
        },
        "16dec937f21e414cbeda5e628784b342": {
          "model_module": "@jupyter-widgets/controls",
          "model_module_version": "1.5.0",
          "model_name": "HTMLModel",
          "state": {
            "_dom_classes": [],
            "_model_module": "@jupyter-widgets/controls",
            "_model_module_version": "1.5.0",
            "_model_name": "HTMLModel",
            "_view_count": null,
            "_view_module": "@jupyter-widgets/controls",
            "_view_module_version": "1.5.0",
            "_view_name": "HTMLView",
            "description": "",
            "description_tooltip": null,
            "layout": "IPY_MODEL_37d195bbf0774f51a3165976e703921d",
            "placeholder": "​",
            "style": "IPY_MODEL_6e3f3ddbf2444271b27a7d09474c859b",
            "value": " 22/22 [01:33&lt;00:00,  3.37s/it, dist=534.9070]"
          }
        },
        "1bc7b74629b640819038b53cc3a33a89": {
          "model_module": "@jupyter-widgets/base",
          "model_module_version": "1.2.0",
          "model_name": "LayoutModel",
          "state": {
            "_model_module": "@jupyter-widgets/base",
            "_model_module_version": "1.2.0",
            "_model_name": "LayoutModel",
            "_view_count": null,
            "_view_module": "@jupyter-widgets/base",
            "_view_module_version": "1.2.0",
            "_view_name": "LayoutView",
            "align_content": null,
            "align_items": null,
            "align_self": null,
            "border": null,
            "bottom": null,
            "display": null,
            "flex": "2",
            "flex_flow": null,
            "grid_area": null,
            "grid_auto_columns": null,
            "grid_auto_flow": null,
            "grid_auto_rows": null,
            "grid_column": null,
            "grid_gap": null,
            "grid_row": null,
            "grid_template_areas": null,
            "grid_template_columns": null,
            "grid_template_rows": null,
            "height": null,
            "justify_content": null,
            "justify_items": null,
            "left": null,
            "margin": null,
            "max_height": null,
            "max_width": null,
            "min_height": null,
            "min_width": null,
            "object_fit": null,
            "object_position": null,
            "order": null,
            "overflow": null,
            "overflow_x": null,
            "overflow_y": null,
            "padding": null,
            "right": null,
            "top": null,
            "visibility": null,
            "width": null
          }
        },
        "1d4d646de47f4137bd26974c71ef5e80": {
          "model_module": "@jupyter-widgets/controls",
          "model_module_version": "1.5.0",
          "model_name": "DescriptionStyleModel",
          "state": {
            "_model_module": "@jupyter-widgets/controls",
            "_model_module_version": "1.5.0",
            "_model_name": "DescriptionStyleModel",
            "_view_count": null,
            "_view_module": "@jupyter-widgets/base",
            "_view_module_version": "1.2.0",
            "_view_name": "StyleView",
            "description_width": ""
          }
        },
        "2002ba527dd14dd4bb6343446afcba09": {
          "model_module": "@jupyter-widgets/controls",
          "model_module_version": "1.5.0",
          "model_name": "HTMLModel",
          "state": {
            "_dom_classes": [],
            "_model_module": "@jupyter-widgets/controls",
            "_model_module_version": "1.5.0",
            "_model_name": "HTMLModel",
            "_view_count": null,
            "_view_module": "@jupyter-widgets/controls",
            "_view_module_version": "1.5.0",
            "_view_name": "HTMLView",
            "description": "",
            "description_tooltip": null,
            "layout": "IPY_MODEL_841a8a43c17c4b159fbbf4aba7271b38",
            "placeholder": "​",
            "style": "IPY_MODEL_b826197c44a14850aace068143c1b69b",
            "value": " 22/22 [01:33&lt;00:00,  3.38s/it, dist=530.1473]"
          }
        },
        "22f9541de6e2487ba418813ab5d3142d": {
          "model_module": "@jupyter-widgets/controls",
          "model_module_version": "1.5.0",
          "model_name": "HBoxModel",
          "state": {
            "_dom_classes": [],
            "_model_module": "@jupyter-widgets/controls",
            "_model_module_version": "1.5.0",
            "_model_name": "HBoxModel",
            "_view_count": null,
            "_view_module": "@jupyter-widgets/controls",
            "_view_module_version": "1.5.0",
            "_view_name": "HBoxView",
            "box_style": "",
            "children": [
              "IPY_MODEL_aacdbfc87e6145b28641b19491449bdd",
              "IPY_MODEL_b51b930a644f4b43add2667d4948b220",
              "IPY_MODEL_2002ba527dd14dd4bb6343446afcba09"
            ],
            "layout": "IPY_MODEL_2ac0b66520284db5979e06814f47ca2f"
          }
        },
        "247fa2b2e25f413faf6d01d25ca92847": {
          "model_module": "@jupyter-widgets/controls",
          "model_module_version": "1.5.0",
          "model_name": "HTMLModel",
          "state": {
            "_dom_classes": [],
            "_model_module": "@jupyter-widgets/controls",
            "_model_module_version": "1.5.0",
            "_model_name": "HTMLModel",
            "_view_count": null,
            "_view_module": "@jupyter-widgets/controls",
            "_view_module_version": "1.5.0",
            "_view_name": "HTMLView",
            "description": "",
            "description_tooltip": null,
            "layout": "IPY_MODEL_fe5b08f389584fd8868a8042c0f057ae",
            "placeholder": "​",
            "style": "IPY_MODEL_e2fff0bbbcc34f4aacf2ce7b31974eac",
            "value": " 41/41 [01:03&lt;00:00,  1.26s/it]"
          }
        },
        "27d2d44938f541e7af1918e64efd00cc": {
          "model_module": "@jupyter-widgets/base",
          "model_module_version": "1.2.0",
          "model_name": "LayoutModel",
          "state": {
            "_model_module": "@jupyter-widgets/base",
            "_model_module_version": "1.2.0",
            "_model_name": "LayoutModel",
            "_view_count": null,
            "_view_module": "@jupyter-widgets/base",
            "_view_module_version": "1.2.0",
            "_view_name": "LayoutView",
            "align_content": null,
            "align_items": null,
            "align_self": null,
            "border": null,
            "bottom": null,
            "display": null,
            "flex": null,
            "flex_flow": null,
            "grid_area": null,
            "grid_auto_columns": null,
            "grid_auto_flow": null,
            "grid_auto_rows": null,
            "grid_column": null,
            "grid_gap": null,
            "grid_row": null,
            "grid_template_areas": null,
            "grid_template_columns": null,
            "grid_template_rows": null,
            "height": null,
            "justify_content": null,
            "justify_items": null,
            "left": null,
            "margin": null,
            "max_height": null,
            "max_width": null,
            "min_height": null,
            "min_width": null,
            "object_fit": null,
            "object_position": null,
            "order": null,
            "overflow": null,
            "overflow_x": null,
            "overflow_y": null,
            "padding": null,
            "right": null,
            "top": null,
            "visibility": null,
            "width": null
          }
        },
        "2ac0b66520284db5979e06814f47ca2f": {
          "model_module": "@jupyter-widgets/base",
          "model_module_version": "1.2.0",
          "model_name": "LayoutModel",
          "state": {
            "_model_module": "@jupyter-widgets/base",
            "_model_module_version": "1.2.0",
            "_model_name": "LayoutModel",
            "_view_count": null,
            "_view_module": "@jupyter-widgets/base",
            "_view_module_version": "1.2.0",
            "_view_name": "LayoutView",
            "align_content": null,
            "align_items": null,
            "align_self": null,
            "border": null,
            "bottom": null,
            "display": "inline-flex",
            "flex": null,
            "flex_flow": "row wrap",
            "grid_area": null,
            "grid_auto_columns": null,
            "grid_auto_flow": null,
            "grid_auto_rows": null,
            "grid_column": null,
            "grid_gap": null,
            "grid_row": null,
            "grid_template_areas": null,
            "grid_template_columns": null,
            "grid_template_rows": null,
            "height": null,
            "justify_content": null,
            "justify_items": null,
            "left": null,
            "margin": null,
            "max_height": null,
            "max_width": null,
            "min_height": null,
            "min_width": null,
            "object_fit": null,
            "object_position": null,
            "order": null,
            "overflow": null,
            "overflow_x": null,
            "overflow_y": null,
            "padding": null,
            "right": null,
            "top": null,
            "visibility": "hidden",
            "width": "100%"
          }
        },
        "2eba3357cc3443e1b7f1572733d2a701": {
          "model_module": "@jupyter-widgets/controls",
          "model_module_version": "1.5.0",
          "model_name": "HBoxModel",
          "state": {
            "_dom_classes": [],
            "_model_module": "@jupyter-widgets/controls",
            "_model_module_version": "1.5.0",
            "_model_name": "HBoxModel",
            "_view_count": null,
            "_view_module": "@jupyter-widgets/controls",
            "_view_module_version": "1.5.0",
            "_view_name": "HBoxView",
            "box_style": "",
            "children": [
              "IPY_MODEL_0e1f85bb646e4ed988127a722ae5ad77",
              "IPY_MODEL_3dab03a0401e4e1884b791fc9f414c5b",
              "IPY_MODEL_c0d47493f3024de1b4cf3172fde0a448"
            ],
            "layout": "IPY_MODEL_ff8796fd641e40a79c179719f1f29e7b"
          }
        },
        "324c32ca7fd4454bb7e2d18d80458214": {
          "model_module": "@jupyter-widgets/controls",
          "model_module_version": "1.5.0",
          "model_name": "HTMLModel",
          "state": {
            "_dom_classes": [],
            "_model_module": "@jupyter-widgets/controls",
            "_model_module_version": "1.5.0",
            "_model_name": "HTMLModel",
            "_view_count": null,
            "_view_module": "@jupyter-widgets/controls",
            "_view_module_version": "1.5.0",
            "_view_name": "HTMLView",
            "description": "",
            "description_tooltip": null,
            "layout": "IPY_MODEL_e598b4bbef34476285b847f8da216454",
            "placeholder": "​",
            "style": "IPY_MODEL_521ab3045901466cb188811a1e0aaa3a",
            "value": "Test: 100%"
          }
        },
        "37d195bbf0774f51a3165976e703921d": {
          "model_module": "@jupyter-widgets/base",
          "model_module_version": "1.2.0",
          "model_name": "LayoutModel",
          "state": {
            "_model_module": "@jupyter-widgets/base",
            "_model_module_version": "1.2.0",
            "_model_name": "LayoutModel",
            "_view_count": null,
            "_view_module": "@jupyter-widgets/base",
            "_view_module_version": "1.2.0",
            "_view_name": "LayoutView",
            "align_content": null,
            "align_items": null,
            "align_self": null,
            "border": null,
            "bottom": null,
            "display": null,
            "flex": null,
            "flex_flow": null,
            "grid_area": null,
            "grid_auto_columns": null,
            "grid_auto_flow": null,
            "grid_auto_rows": null,
            "grid_column": null,
            "grid_gap": null,
            "grid_row": null,
            "grid_template_areas": null,
            "grid_template_columns": null,
            "grid_template_rows": null,
            "height": null,
            "justify_content": null,
            "justify_items": null,
            "left": null,
            "margin": null,
            "max_height": null,
            "max_width": null,
            "min_height": null,
            "min_width": null,
            "object_fit": null,
            "object_position": null,
            "order": null,
            "overflow": null,
            "overflow_x": null,
            "overflow_y": null,
            "padding": null,
            "right": null,
            "top": null,
            "visibility": null,
            "width": null
          }
        },
        "3ab25ae01cc7437e9cb9112460ffc0db": {
          "model_module": "@jupyter-widgets/base",
          "model_module_version": "1.2.0",
          "model_name": "LayoutModel",
          "state": {
            "_model_module": "@jupyter-widgets/base",
            "_model_module_version": "1.2.0",
            "_model_name": "LayoutModel",
            "_view_count": null,
            "_view_module": "@jupyter-widgets/base",
            "_view_module_version": "1.2.0",
            "_view_name": "LayoutView",
            "align_content": null,
            "align_items": null,
            "align_self": null,
            "border": null,
            "bottom": null,
            "display": "inline-flex",
            "flex": null,
            "flex_flow": "row wrap",
            "grid_area": null,
            "grid_auto_columns": null,
            "grid_auto_flow": null,
            "grid_auto_rows": null,
            "grid_column": null,
            "grid_gap": null,
            "grid_row": null,
            "grid_template_areas": null,
            "grid_template_columns": null,
            "grid_template_rows": null,
            "height": null,
            "justify_content": null,
            "justify_items": null,
            "left": null,
            "margin": null,
            "max_height": null,
            "max_width": null,
            "min_height": null,
            "min_width": null,
            "object_fit": null,
            "object_position": null,
            "order": null,
            "overflow": null,
            "overflow_x": null,
            "overflow_y": null,
            "padding": null,
            "right": null,
            "top": null,
            "visibility": "hidden",
            "width": "100%"
          }
        },
        "3dab03a0401e4e1884b791fc9f414c5b": {
          "model_module": "@jupyter-widgets/controls",
          "model_module_version": "1.5.0",
          "model_name": "FloatProgressModel",
          "state": {
            "_dom_classes": [],
            "_model_module": "@jupyter-widgets/controls",
            "_model_module_version": "1.5.0",
            "_model_name": "FloatProgressModel",
            "_view_count": null,
            "_view_module": "@jupyter-widgets/controls",
            "_view_module_version": "1.5.0",
            "_view_name": "ProgressView",
            "bar_style": "",
            "description": "",
            "description_tooltip": null,
            "layout": "IPY_MODEL_dc27a4f7d9ed4cfaad63db023ead50e7",
            "max": 223,
            "min": 0,
            "orientation": "horizontal",
            "style": "IPY_MODEL_d5d192a027d5421ab8f08c40fcb3ea2e",
            "value": 223
          }
        },
        "3ffa953c90fc40d58d5da26ea5f33a45": {
          "model_module": "@jupyter-widgets/controls",
          "model_module_version": "1.5.0",
          "model_name": "HTMLModel",
          "state": {
            "_dom_classes": [],
            "_model_module": "@jupyter-widgets/controls",
            "_model_module_version": "1.5.0",
            "_model_name": "HTMLModel",
            "_view_count": null,
            "_view_module": "@jupyter-widgets/controls",
            "_view_module_version": "1.5.0",
            "_view_name": "HTMLView",
            "description": "",
            "description_tooltip": null,
            "layout": "IPY_MODEL_14dbb9040cb14646a48e7a21eb792c0a",
            "placeholder": "​",
            "style": "IPY_MODEL_a55f51301ddd487c88d84916db4f6f18",
            "value": "Train:  99%"
          }
        },
        "446e2e24f8d14803a101c4b1d9837ced": {
          "model_module": "@jupyter-widgets/controls",
          "model_module_version": "1.5.0",
          "model_name": "HBoxModel",
          "state": {
            "_dom_classes": [],
            "_model_module": "@jupyter-widgets/controls",
            "_model_module_version": "1.5.0",
            "_model_name": "HBoxModel",
            "_view_count": null,
            "_view_module": "@jupyter-widgets/controls",
            "_view_module_version": "1.5.0",
            "_view_name": "HBoxView",
            "box_style": "",
            "children": [
              "IPY_MODEL_324c32ca7fd4454bb7e2d18d80458214",
              "IPY_MODEL_cb44d8ac1c1b4c09ba0e06a45b7aa687",
              "IPY_MODEL_247fa2b2e25f413faf6d01d25ca92847"
            ],
            "layout": "IPY_MODEL_02bc74ab51aa488d9c8a8a9eb05cd0b6"
          }
        },
        "4afcf1f23ae949ff97169cc9c5d82aa4": {
          "model_module": "@jupyter-widgets/controls",
          "model_module_version": "1.5.0",
          "model_name": "HBoxModel",
          "state": {
            "_dom_classes": [],
            "_model_module": "@jupyter-widgets/controls",
            "_model_module_version": "1.5.0",
            "_model_name": "HBoxModel",
            "_view_count": null,
            "_view_module": "@jupyter-widgets/controls",
            "_view_module_version": "1.5.0",
            "_view_name": "HBoxView",
            "box_style": "",
            "children": [
              "IPY_MODEL_63697af2cbae4ea387d113b9a53e8511",
              "IPY_MODEL_16cf32942dbe4ce3a55d85366be153cd",
              "IPY_MODEL_16dec937f21e414cbeda5e628784b342"
            ],
            "layout": "IPY_MODEL_3ab25ae01cc7437e9cb9112460ffc0db"
          }
        },
        "521ab3045901466cb188811a1e0aaa3a": {
          "model_module": "@jupyter-widgets/controls",
          "model_module_version": "1.5.0",
          "model_name": "DescriptionStyleModel",
          "state": {
            "_model_module": "@jupyter-widgets/controls",
            "_model_module_version": "1.5.0",
            "_model_name": "DescriptionStyleModel",
            "_view_count": null,
            "_view_module": "@jupyter-widgets/base",
            "_view_module_version": "1.2.0",
            "_view_name": "StyleView",
            "description_width": ""
          }
        },
        "63697af2cbae4ea387d113b9a53e8511": {
          "model_module": "@jupyter-widgets/controls",
          "model_module_version": "1.5.0",
          "model_name": "HTMLModel",
          "state": {
            "_dom_classes": [],
            "_model_module": "@jupyter-widgets/controls",
            "_model_module_version": "1.5.0",
            "_model_name": "HTMLModel",
            "_view_count": null,
            "_view_module": "@jupyter-widgets/controls",
            "_view_module_version": "1.5.0",
            "_view_name": "HTMLView",
            "description": "",
            "description_tooltip": null,
            "layout": "IPY_MODEL_118e97a2846d472a8769a0b9db5ae9b7",
            "placeholder": "​",
            "style": "IPY_MODEL_e064ca4e5f8c4f9fb50b27fb3f8cfaed",
            "value": "Val: 100%"
          }
        },
        "63c4a5dcc4ce401db4dba32de36c0620": {
          "model_module": "@jupyter-widgets/base",
          "model_module_version": "1.2.0",
          "model_name": "LayoutModel",
          "state": {
            "_model_module": "@jupyter-widgets/base",
            "_model_module_version": "1.2.0",
            "_model_name": "LayoutModel",
            "_view_count": null,
            "_view_module": "@jupyter-widgets/base",
            "_view_module_version": "1.2.0",
            "_view_name": "LayoutView",
            "align_content": null,
            "align_items": null,
            "align_self": null,
            "border": null,
            "bottom": null,
            "display": null,
            "flex": null,
            "flex_flow": null,
            "grid_area": null,
            "grid_auto_columns": null,
            "grid_auto_flow": null,
            "grid_auto_rows": null,
            "grid_column": null,
            "grid_gap": null,
            "grid_row": null,
            "grid_template_areas": null,
            "grid_template_columns": null,
            "grid_template_rows": null,
            "height": null,
            "justify_content": null,
            "justify_items": null,
            "left": null,
            "margin": null,
            "max_height": null,
            "max_width": null,
            "min_height": null,
            "min_width": null,
            "object_fit": null,
            "object_position": null,
            "order": null,
            "overflow": null,
            "overflow_x": null,
            "overflow_y": null,
            "padding": null,
            "right": null,
            "top": null,
            "visibility": null,
            "width": null
          }
        },
        "6597349b0f194dc7a6c83d9b392c6bf5": {
          "model_module": "@jupyter-widgets/controls",
          "model_module_version": "1.5.0",
          "model_name": "DescriptionStyleModel",
          "state": {
            "_model_module": "@jupyter-widgets/controls",
            "_model_module_version": "1.5.0",
            "_model_name": "DescriptionStyleModel",
            "_view_count": null,
            "_view_module": "@jupyter-widgets/base",
            "_view_module_version": "1.2.0",
            "_view_name": "StyleView",
            "description_width": ""
          }
        },
        "6e3f3ddbf2444271b27a7d09474c859b": {
          "model_module": "@jupyter-widgets/controls",
          "model_module_version": "1.5.0",
          "model_name": "DescriptionStyleModel",
          "state": {
            "_model_module": "@jupyter-widgets/controls",
            "_model_module_version": "1.5.0",
            "_model_name": "DescriptionStyleModel",
            "_view_count": null,
            "_view_module": "@jupyter-widgets/base",
            "_view_module_version": "1.2.0",
            "_view_name": "StyleView",
            "description_width": ""
          }
        },
        "74a32855871c49a4ae9173fa440ebea3": {
          "model_module": "@jupyter-widgets/controls",
          "model_module_version": "1.5.0",
          "model_name": "DescriptionStyleModel",
          "state": {
            "_model_module": "@jupyter-widgets/controls",
            "_model_module_version": "1.5.0",
            "_model_name": "DescriptionStyleModel",
            "_view_count": null,
            "_view_module": "@jupyter-widgets/base",
            "_view_module_version": "1.2.0",
            "_view_name": "StyleView",
            "description_width": ""
          }
        },
        "76950c04c816438f890b4ba00c974109": {
          "model_module": "@jupyter-widgets/controls",
          "model_module_version": "1.5.0",
          "model_name": "DescriptionStyleModel",
          "state": {
            "_model_module": "@jupyter-widgets/controls",
            "_model_module_version": "1.5.0",
            "_model_name": "DescriptionStyleModel",
            "_view_count": null,
            "_view_module": "@jupyter-widgets/base",
            "_view_module_version": "1.2.0",
            "_view_name": "StyleView",
            "description_width": ""
          }
        },
        "79d80a0527e84bcdb536db8aa895f0a2": {
          "model_module": "@jupyter-widgets/base",
          "model_module_version": "1.2.0",
          "model_name": "LayoutModel",
          "state": {
            "_model_module": "@jupyter-widgets/base",
            "_model_module_version": "1.2.0",
            "_model_name": "LayoutModel",
            "_view_count": null,
            "_view_module": "@jupyter-widgets/base",
            "_view_module_version": "1.2.0",
            "_view_name": "LayoutView",
            "align_content": null,
            "align_items": null,
            "align_self": null,
            "border": null,
            "bottom": null,
            "display": null,
            "flex": null,
            "flex_flow": null,
            "grid_area": null,
            "grid_auto_columns": null,
            "grid_auto_flow": null,
            "grid_auto_rows": null,
            "grid_column": null,
            "grid_gap": null,
            "grid_row": null,
            "grid_template_areas": null,
            "grid_template_columns": null,
            "grid_template_rows": null,
            "height": null,
            "justify_content": null,
            "justify_items": null,
            "left": null,
            "margin": null,
            "max_height": null,
            "max_width": null,
            "min_height": null,
            "min_width": null,
            "object_fit": null,
            "object_position": null,
            "order": null,
            "overflow": null,
            "overflow_x": null,
            "overflow_y": null,
            "padding": null,
            "right": null,
            "top": null,
            "visibility": null,
            "width": null
          }
        },
        "808256895d6c4feabdb5413e4acef401": {
          "model_module": "@jupyter-widgets/base",
          "model_module_version": "1.2.0",
          "model_name": "LayoutModel",
          "state": {
            "_model_module": "@jupyter-widgets/base",
            "_model_module_version": "1.2.0",
            "_model_name": "LayoutModel",
            "_view_count": null,
            "_view_module": "@jupyter-widgets/base",
            "_view_module_version": "1.2.0",
            "_view_name": "LayoutView",
            "align_content": null,
            "align_items": null,
            "align_self": null,
            "border": null,
            "bottom": null,
            "display": null,
            "flex": "2",
            "flex_flow": null,
            "grid_area": null,
            "grid_auto_columns": null,
            "grid_auto_flow": null,
            "grid_auto_rows": null,
            "grid_column": null,
            "grid_gap": null,
            "grid_row": null,
            "grid_template_areas": null,
            "grid_template_columns": null,
            "grid_template_rows": null,
            "height": null,
            "justify_content": null,
            "justify_items": null,
            "left": null,
            "margin": null,
            "max_height": null,
            "max_width": null,
            "min_height": null,
            "min_width": null,
            "object_fit": null,
            "object_position": null,
            "order": null,
            "overflow": null,
            "overflow_x": null,
            "overflow_y": null,
            "padding": null,
            "right": null,
            "top": null,
            "visibility": null,
            "width": null
          }
        },
        "841a8a43c17c4b159fbbf4aba7271b38": {
          "model_module": "@jupyter-widgets/base",
          "model_module_version": "1.2.0",
          "model_name": "LayoutModel",
          "state": {
            "_model_module": "@jupyter-widgets/base",
            "_model_module_version": "1.2.0",
            "_model_name": "LayoutModel",
            "_view_count": null,
            "_view_module": "@jupyter-widgets/base",
            "_view_module_version": "1.2.0",
            "_view_name": "LayoutView",
            "align_content": null,
            "align_items": null,
            "align_self": null,
            "border": null,
            "bottom": null,
            "display": null,
            "flex": null,
            "flex_flow": null,
            "grid_area": null,
            "grid_auto_columns": null,
            "grid_auto_flow": null,
            "grid_auto_rows": null,
            "grid_column": null,
            "grid_gap": null,
            "grid_row": null,
            "grid_template_areas": null,
            "grid_template_columns": null,
            "grid_template_rows": null,
            "height": null,
            "justify_content": null,
            "justify_items": null,
            "left": null,
            "margin": null,
            "max_height": null,
            "max_width": null,
            "min_height": null,
            "min_width": null,
            "object_fit": null,
            "object_position": null,
            "order": null,
            "overflow": null,
            "overflow_x": null,
            "overflow_y": null,
            "padding": null,
            "right": null,
            "top": null,
            "visibility": null,
            "width": null
          }
        },
        "8685dc8d37734533927af9b71ae2e4e4": {
          "model_module": "@jupyter-widgets/controls",
          "model_module_version": "1.5.0",
          "model_name": "HBoxModel",
          "state": {
            "_dom_classes": [],
            "_model_module": "@jupyter-widgets/controls",
            "_model_module_version": "1.5.0",
            "_model_name": "HBoxModel",
            "_view_count": null,
            "_view_module": "@jupyter-widgets/controls",
            "_view_module_version": "1.5.0",
            "_view_name": "HBoxView",
            "box_style": "",
            "children": [
              "IPY_MODEL_08053f77bbb94917a270a6d53ab6c49a",
              "IPY_MODEL_129d84ea9ce74b2b90672d7d11379b81",
              "IPY_MODEL_dd56db971a7a4ab0bca0f6a132f85ab9"
            ],
            "layout": "IPY_MODEL_fc50623f6f3646579e6c26cebc96897d"
          }
        },
        "8e22cfd96f134dbda2c0dccc301d5e2c": {
          "model_module": "@jupyter-widgets/controls",
          "model_module_version": "1.5.0",
          "model_name": "ProgressStyleModel",
          "state": {
            "_model_module": "@jupyter-widgets/controls",
            "_model_module_version": "1.5.0",
            "_model_name": "ProgressStyleModel",
            "_view_count": null,
            "_view_module": "@jupyter-widgets/base",
            "_view_module_version": "1.2.0",
            "_view_name": "StyleView",
            "bar_color": null,
            "description_width": ""
          }
        },
        "9108f0a821c64b699433d38ce2eb5738": {
          "model_module": "@jupyter-widgets/controls",
          "model_module_version": "1.5.0",
          "model_name": "DescriptionStyleModel",
          "state": {
            "_model_module": "@jupyter-widgets/controls",
            "_model_module_version": "1.5.0",
            "_model_name": "DescriptionStyleModel",
            "_view_count": null,
            "_view_module": "@jupyter-widgets/base",
            "_view_module_version": "1.2.0",
            "_view_name": "StyleView",
            "description_width": ""
          }
        },
        "93c00db3609f4b8cbd56f684c7cfb4fe": {
          "model_module": "@jupyter-widgets/base",
          "model_module_version": "1.2.0",
          "model_name": "LayoutModel",
          "state": {
            "_model_module": "@jupyter-widgets/base",
            "_model_module_version": "1.2.0",
            "_model_name": "LayoutModel",
            "_view_count": null,
            "_view_module": "@jupyter-widgets/base",
            "_view_module_version": "1.2.0",
            "_view_name": "LayoutView",
            "align_content": null,
            "align_items": null,
            "align_self": null,
            "border": null,
            "bottom": null,
            "display": "inline-flex",
            "flex": null,
            "flex_flow": "row wrap",
            "grid_area": null,
            "grid_auto_columns": null,
            "grid_auto_flow": null,
            "grid_auto_rows": null,
            "grid_column": null,
            "grid_gap": null,
            "grid_row": null,
            "grid_template_areas": null,
            "grid_template_columns": null,
            "grid_template_rows": null,
            "height": null,
            "justify_content": null,
            "justify_items": null,
            "left": null,
            "margin": null,
            "max_height": null,
            "max_width": null,
            "min_height": null,
            "min_width": null,
            "object_fit": null,
            "object_position": null,
            "order": null,
            "overflow": null,
            "overflow_x": null,
            "overflow_y": null,
            "padding": null,
            "right": null,
            "top": null,
            "visibility": null,
            "width": "100%"
          }
        },
        "9574094e96f94912aac3131635c95363": {
          "model_module": "@jupyter-widgets/base",
          "model_module_version": "1.2.0",
          "model_name": "LayoutModel",
          "state": {
            "_model_module": "@jupyter-widgets/base",
            "_model_module_version": "1.2.0",
            "_model_name": "LayoutModel",
            "_view_count": null,
            "_view_module": "@jupyter-widgets/base",
            "_view_module_version": "1.2.0",
            "_view_name": "LayoutView",
            "align_content": null,
            "align_items": null,
            "align_self": null,
            "border": null,
            "bottom": null,
            "display": null,
            "flex": "2",
            "flex_flow": null,
            "grid_area": null,
            "grid_auto_columns": null,
            "grid_auto_flow": null,
            "grid_auto_rows": null,
            "grid_column": null,
            "grid_gap": null,
            "grid_row": null,
            "grid_template_areas": null,
            "grid_template_columns": null,
            "grid_template_rows": null,
            "height": null,
            "justify_content": null,
            "justify_items": null,
            "left": null,
            "margin": null,
            "max_height": null,
            "max_width": null,
            "min_height": null,
            "min_width": null,
            "object_fit": null,
            "object_position": null,
            "order": null,
            "overflow": null,
            "overflow_x": null,
            "overflow_y": null,
            "padding": null,
            "right": null,
            "top": null,
            "visibility": null,
            "width": null
          }
        },
        "a55f51301ddd487c88d84916db4f6f18": {
          "model_module": "@jupyter-widgets/controls",
          "model_module_version": "1.5.0",
          "model_name": "DescriptionStyleModel",
          "state": {
            "_model_module": "@jupyter-widgets/controls",
            "_model_module_version": "1.5.0",
            "_model_name": "DescriptionStyleModel",
            "_view_count": null,
            "_view_module": "@jupyter-widgets/base",
            "_view_module_version": "1.2.0",
            "_view_name": "StyleView",
            "description_width": ""
          }
        },
        "aacdbfc87e6145b28641b19491449bdd": {
          "model_module": "@jupyter-widgets/controls",
          "model_module_version": "1.5.0",
          "model_name": "HTMLModel",
          "state": {
            "_dom_classes": [],
            "_model_module": "@jupyter-widgets/controls",
            "_model_module_version": "1.5.0",
            "_model_name": "HTMLModel",
            "_view_count": null,
            "_view_module": "@jupyter-widgets/controls",
            "_view_module_version": "1.5.0",
            "_view_name": "HTMLView",
            "description": "",
            "description_tooltip": null,
            "layout": "IPY_MODEL_63c4a5dcc4ce401db4dba32de36c0620",
            "placeholder": "​",
            "style": "IPY_MODEL_74a32855871c49a4ae9173fa440ebea3",
            "value": "Val: 100%"
          }
        },
        "b51b930a644f4b43add2667d4948b220": {
          "model_module": "@jupyter-widgets/controls",
          "model_module_version": "1.5.0",
          "model_name": "FloatProgressModel",
          "state": {
            "_dom_classes": [],
            "_model_module": "@jupyter-widgets/controls",
            "_model_module_version": "1.5.0",
            "_model_name": "FloatProgressModel",
            "_view_count": null,
            "_view_module": "@jupyter-widgets/controls",
            "_view_module_version": "1.5.0",
            "_view_name": "ProgressView",
            "bar_style": "",
            "description": "",
            "description_tooltip": null,
            "layout": "IPY_MODEL_1488de4c3e764fa6b2a475d353c8748b",
            "max": 22,
            "min": 0,
            "orientation": "horizontal",
            "style": "IPY_MODEL_cc689033195748c0b1b2fba6e33e5b71",
            "value": 22
          }
        },
        "b826197c44a14850aace068143c1b69b": {
          "model_module": "@jupyter-widgets/controls",
          "model_module_version": "1.5.0",
          "model_name": "DescriptionStyleModel",
          "state": {
            "_model_module": "@jupyter-widgets/controls",
            "_model_module_version": "1.5.0",
            "_model_name": "DescriptionStyleModel",
            "_view_count": null,
            "_view_module": "@jupyter-widgets/base",
            "_view_module_version": "1.2.0",
            "_view_name": "StyleView",
            "description_width": ""
          }
        },
        "b8a5a447e0014ab0ac3599753ca405b0": {
          "model_module": "@jupyter-widgets/base",
          "model_module_version": "1.2.0",
          "model_name": "LayoutModel",
          "state": {
            "_model_module": "@jupyter-widgets/base",
            "_model_module_version": "1.2.0",
            "_model_name": "LayoutModel",
            "_view_count": null,
            "_view_module": "@jupyter-widgets/base",
            "_view_module_version": "1.2.0",
            "_view_name": "LayoutView",
            "align_content": null,
            "align_items": null,
            "align_self": null,
            "border": null,
            "bottom": null,
            "display": null,
            "flex": null,
            "flex_flow": null,
            "grid_area": null,
            "grid_auto_columns": null,
            "grid_auto_flow": null,
            "grid_auto_rows": null,
            "grid_column": null,
            "grid_gap": null,
            "grid_row": null,
            "grid_template_areas": null,
            "grid_template_columns": null,
            "grid_template_rows": null,
            "height": null,
            "justify_content": null,
            "justify_items": null,
            "left": null,
            "margin": null,
            "max_height": null,
            "max_width": null,
            "min_height": null,
            "min_width": null,
            "object_fit": null,
            "object_position": null,
            "order": null,
            "overflow": null,
            "overflow_x": null,
            "overflow_y": null,
            "padding": null,
            "right": null,
            "top": null,
            "visibility": null,
            "width": null
          }
        },
        "c0d47493f3024de1b4cf3172fde0a448": {
          "model_module": "@jupyter-widgets/controls",
          "model_module_version": "1.5.0",
          "model_name": "HTMLModel",
          "state": {
            "_dom_classes": [],
            "_model_module": "@jupyter-widgets/controls",
            "_model_module_version": "1.5.0",
            "_model_name": "HTMLModel",
            "_view_count": null,
            "_view_module": "@jupyter-widgets/controls",
            "_view_module_version": "1.5.0",
            "_view_name": "HTMLView",
            "description": "",
            "description_tooltip": null,
            "layout": "IPY_MODEL_fd0f9af556334fe68e11d369e176b7c8",
            "placeholder": "​",
            "style": "IPY_MODEL_e572fbd8a70e488aa196afc4403d4c29",
            "value": " 223/223 [07:46&lt;00:00,  2.08s/it, loss=1.2418, lr=0.0010, perplexity=3.4621, tf_rate=1.00]"
          }
        },
        "c24df90123f348bd8b72164380da4f4c": {
          "model_module": "@jupyter-widgets/controls",
          "model_module_version": "1.5.0",
          "model_name": "HBoxModel",
          "state": {
            "_dom_classes": [],
            "_model_module": "@jupyter-widgets/controls",
            "_model_module_version": "1.5.0",
            "_model_name": "HBoxModel",
            "_view_count": null,
            "_view_module": "@jupyter-widgets/controls",
            "_view_module_version": "1.5.0",
            "_view_name": "HBoxView",
            "box_style": "",
            "children": [
              "IPY_MODEL_3ffa953c90fc40d58d5da26ea5f33a45",
              "IPY_MODEL_0cd6c2cbee304cdf97a218086480ff97",
              "IPY_MODEL_f3685f3f7c7b470dbf74a3650d49b9e8"
            ],
            "layout": "IPY_MODEL_93c00db3609f4b8cbd56f684c7cfb4fe"
          }
        },
        "cb44d8ac1c1b4c09ba0e06a45b7aa687": {
          "model_module": "@jupyter-widgets/controls",
          "model_module_version": "1.5.0",
          "model_name": "FloatProgressModel",
          "state": {
            "_dom_classes": [],
            "_model_module": "@jupyter-widgets/controls",
            "_model_module_version": "1.5.0",
            "_model_name": "FloatProgressModel",
            "_view_count": null,
            "_view_module": "@jupyter-widgets/controls",
            "_view_module_version": "1.5.0",
            "_view_name": "ProgressView",
            "bar_style": "",
            "description": "",
            "description_tooltip": null,
            "layout": "IPY_MODEL_9574094e96f94912aac3131635c95363",
            "max": 41,
            "min": 0,
            "orientation": "horizontal",
            "style": "IPY_MODEL_d809ca288718440f89d8135d980805e7",
            "value": 41
          }
        },
        "cc689033195748c0b1b2fba6e33e5b71": {
          "model_module": "@jupyter-widgets/controls",
          "model_module_version": "1.5.0",
          "model_name": "ProgressStyleModel",
          "state": {
            "_model_module": "@jupyter-widgets/controls",
            "_model_module_version": "1.5.0",
            "_model_name": "ProgressStyleModel",
            "_view_count": null,
            "_view_module": "@jupyter-widgets/base",
            "_view_module_version": "1.2.0",
            "_view_name": "StyleView",
            "bar_color": null,
            "description_width": ""
          }
        },
        "d5d192a027d5421ab8f08c40fcb3ea2e": {
          "model_module": "@jupyter-widgets/controls",
          "model_module_version": "1.5.0",
          "model_name": "ProgressStyleModel",
          "state": {
            "_model_module": "@jupyter-widgets/controls",
            "_model_module_version": "1.5.0",
            "_model_name": "ProgressStyleModel",
            "_view_count": null,
            "_view_module": "@jupyter-widgets/base",
            "_view_module_version": "1.2.0",
            "_view_name": "StyleView",
            "bar_color": null,
            "description_width": ""
          }
        },
        "d809ca288718440f89d8135d980805e7": {
          "model_module": "@jupyter-widgets/controls",
          "model_module_version": "1.5.0",
          "model_name": "ProgressStyleModel",
          "state": {
            "_model_module": "@jupyter-widgets/controls",
            "_model_module_version": "1.5.0",
            "_model_name": "ProgressStyleModel",
            "_view_count": null,
            "_view_module": "@jupyter-widgets/base",
            "_view_module_version": "1.2.0",
            "_view_name": "StyleView",
            "bar_color": null,
            "description_width": ""
          }
        },
        "dc27a4f7d9ed4cfaad63db023ead50e7": {
          "model_module": "@jupyter-widgets/base",
          "model_module_version": "1.2.0",
          "model_name": "LayoutModel",
          "state": {
            "_model_module": "@jupyter-widgets/base",
            "_model_module_version": "1.2.0",
            "_model_name": "LayoutModel",
            "_view_count": null,
            "_view_module": "@jupyter-widgets/base",
            "_view_module_version": "1.2.0",
            "_view_name": "LayoutView",
            "align_content": null,
            "align_items": null,
            "align_self": null,
            "border": null,
            "bottom": null,
            "display": null,
            "flex": "2",
            "flex_flow": null,
            "grid_area": null,
            "grid_auto_columns": null,
            "grid_auto_flow": null,
            "grid_auto_rows": null,
            "grid_column": null,
            "grid_gap": null,
            "grid_row": null,
            "grid_template_areas": null,
            "grid_template_columns": null,
            "grid_template_rows": null,
            "height": null,
            "justify_content": null,
            "justify_items": null,
            "left": null,
            "margin": null,
            "max_height": null,
            "max_width": null,
            "min_height": null,
            "min_width": null,
            "object_fit": null,
            "object_position": null,
            "order": null,
            "overflow": null,
            "overflow_x": null,
            "overflow_y": null,
            "padding": null,
            "right": null,
            "top": null,
            "visibility": null,
            "width": null
          }
        },
        "dd56db971a7a4ab0bca0f6a132f85ab9": {
          "model_module": "@jupyter-widgets/controls",
          "model_module_version": "1.5.0",
          "model_name": "HTMLModel",
          "state": {
            "_dom_classes": [],
            "_model_module": "@jupyter-widgets/controls",
            "_model_module_version": "1.5.0",
            "_model_name": "HTMLModel",
            "_view_count": null,
            "_view_module": "@jupyter-widgets/controls",
            "_view_module_version": "1.5.0",
            "_view_name": "HTMLView",
            "description": "",
            "description_tooltip": null,
            "layout": "IPY_MODEL_27d2d44938f541e7af1918e64efd00cc",
            "placeholder": "​",
            "style": "IPY_MODEL_9108f0a821c64b699433d38ce2eb5738",
            "value": " 223/223 [07:48&lt;00:00,  2.12s/it, loss=1.3138, lr=0.0010, perplexity=3.7218, tf_rate=1.00]"
          }
        },
        "e064ca4e5f8c4f9fb50b27fb3f8cfaed": {
          "model_module": "@jupyter-widgets/controls",
          "model_module_version": "1.5.0",
          "model_name": "DescriptionStyleModel",
          "state": {
            "_model_module": "@jupyter-widgets/controls",
            "_model_module_version": "1.5.0",
            "_model_name": "DescriptionStyleModel",
            "_view_count": null,
            "_view_module": "@jupyter-widgets/base",
            "_view_module_version": "1.2.0",
            "_view_name": "StyleView",
            "description_width": ""
          }
        },
        "e2fff0bbbcc34f4aacf2ce7b31974eac": {
          "model_module": "@jupyter-widgets/controls",
          "model_module_version": "1.5.0",
          "model_name": "DescriptionStyleModel",
          "state": {
            "_model_module": "@jupyter-widgets/controls",
            "_model_module_version": "1.5.0",
            "_model_name": "DescriptionStyleModel",
            "_view_count": null,
            "_view_module": "@jupyter-widgets/base",
            "_view_module_version": "1.2.0",
            "_view_name": "StyleView",
            "description_width": ""
          }
        },
        "e572fbd8a70e488aa196afc4403d4c29": {
          "model_module": "@jupyter-widgets/controls",
          "model_module_version": "1.5.0",
          "model_name": "DescriptionStyleModel",
          "state": {
            "_model_module": "@jupyter-widgets/controls",
            "_model_module_version": "1.5.0",
            "_model_name": "DescriptionStyleModel",
            "_view_count": null,
            "_view_module": "@jupyter-widgets/base",
            "_view_module_version": "1.2.0",
            "_view_name": "StyleView",
            "description_width": ""
          }
        },
        "e598b4bbef34476285b847f8da216454": {
          "model_module": "@jupyter-widgets/base",
          "model_module_version": "1.2.0",
          "model_name": "LayoutModel",
          "state": {
            "_model_module": "@jupyter-widgets/base",
            "_model_module_version": "1.2.0",
            "_model_name": "LayoutModel",
            "_view_count": null,
            "_view_module": "@jupyter-widgets/base",
            "_view_module_version": "1.2.0",
            "_view_name": "LayoutView",
            "align_content": null,
            "align_items": null,
            "align_self": null,
            "border": null,
            "bottom": null,
            "display": null,
            "flex": null,
            "flex_flow": null,
            "grid_area": null,
            "grid_auto_columns": null,
            "grid_auto_flow": null,
            "grid_auto_rows": null,
            "grid_column": null,
            "grid_gap": null,
            "grid_row": null,
            "grid_template_areas": null,
            "grid_template_columns": null,
            "grid_template_rows": null,
            "height": null,
            "justify_content": null,
            "justify_items": null,
            "left": null,
            "margin": null,
            "max_height": null,
            "max_width": null,
            "min_height": null,
            "min_width": null,
            "object_fit": null,
            "object_position": null,
            "order": null,
            "overflow": null,
            "overflow_x": null,
            "overflow_y": null,
            "padding": null,
            "right": null,
            "top": null,
            "visibility": null,
            "width": null
          }
        },
        "e7138586e67d4c7cafe5118834ad1f0c": {
          "model_module": "@jupyter-widgets/base",
          "model_module_version": "1.2.0",
          "model_name": "LayoutModel",
          "state": {
            "_model_module": "@jupyter-widgets/base",
            "_model_module_version": "1.2.0",
            "_model_name": "LayoutModel",
            "_view_count": null,
            "_view_module": "@jupyter-widgets/base",
            "_view_module_version": "1.2.0",
            "_view_name": "LayoutView",
            "align_content": null,
            "align_items": null,
            "align_self": null,
            "border": null,
            "bottom": null,
            "display": null,
            "flex": "2",
            "flex_flow": null,
            "grid_area": null,
            "grid_auto_columns": null,
            "grid_auto_flow": null,
            "grid_auto_rows": null,
            "grid_column": null,
            "grid_gap": null,
            "grid_row": null,
            "grid_template_areas": null,
            "grid_template_columns": null,
            "grid_template_rows": null,
            "height": null,
            "justify_content": null,
            "justify_items": null,
            "left": null,
            "margin": null,
            "max_height": null,
            "max_width": null,
            "min_height": null,
            "min_width": null,
            "object_fit": null,
            "object_position": null,
            "order": null,
            "overflow": null,
            "overflow_x": null,
            "overflow_y": null,
            "padding": null,
            "right": null,
            "top": null,
            "visibility": null,
            "width": null
          }
        },
        "f3685f3f7c7b470dbf74a3650d49b9e8": {
          "model_module": "@jupyter-widgets/controls",
          "model_module_version": "1.5.0",
          "model_name": "HTMLModel",
          "state": {
            "_dom_classes": [],
            "_model_module": "@jupyter-widgets/controls",
            "_model_module_version": "1.5.0",
            "_model_name": "HTMLModel",
            "_view_count": null,
            "_view_module": "@jupyter-widgets/controls",
            "_view_module_version": "1.5.0",
            "_view_name": "HTMLView",
            "description": "",
            "description_tooltip": null,
            "layout": "IPY_MODEL_091f0e43fc4e4fb2b9d4ce95de3082ae",
            "placeholder": "​",
            "style": "IPY_MODEL_76950c04c816438f890b4ba00c974109",
            "value": " 220/223 [07:41&lt;00:06,  2.11s/it, loss=1.2022, lr=0.0010, perplexity=3.3276, tf_rate=1.00]"
          }
        },
        "f38240f50867427e9d83b67b0dd6efe9": {
          "model_module": "@jupyter-widgets/controls",
          "model_module_version": "1.5.0",
          "model_name": "ProgressStyleModel",
          "state": {
            "_model_module": "@jupyter-widgets/controls",
            "_model_module_version": "1.5.0",
            "_model_name": "ProgressStyleModel",
            "_view_count": null,
            "_view_module": "@jupyter-widgets/base",
            "_view_module_version": "1.2.0",
            "_view_name": "StyleView",
            "bar_color": null,
            "description_width": ""
          }
        },
        "f88f0044742d418e817c4d0729a9c31d": {
          "model_module": "@jupyter-widgets/controls",
          "model_module_version": "1.5.0",
          "model_name": "ProgressStyleModel",
          "state": {
            "_model_module": "@jupyter-widgets/controls",
            "_model_module_version": "1.5.0",
            "_model_name": "ProgressStyleModel",
            "_view_count": null,
            "_view_module": "@jupyter-widgets/base",
            "_view_module_version": "1.2.0",
            "_view_name": "StyleView",
            "bar_color": null,
            "description_width": ""
          }
        },
        "fc50623f6f3646579e6c26cebc96897d": {
          "model_module": "@jupyter-widgets/base",
          "model_module_version": "1.2.0",
          "model_name": "LayoutModel",
          "state": {
            "_model_module": "@jupyter-widgets/base",
            "_model_module_version": "1.2.0",
            "_model_name": "LayoutModel",
            "_view_count": null,
            "_view_module": "@jupyter-widgets/base",
            "_view_module_version": "1.2.0",
            "_view_name": "LayoutView",
            "align_content": null,
            "align_items": null,
            "align_self": null,
            "border": null,
            "bottom": null,
            "display": "inline-flex",
            "flex": null,
            "flex_flow": "row wrap",
            "grid_area": null,
            "grid_auto_columns": null,
            "grid_auto_flow": null,
            "grid_auto_rows": null,
            "grid_column": null,
            "grid_gap": null,
            "grid_row": null,
            "grid_template_areas": null,
            "grid_template_columns": null,
            "grid_template_rows": null,
            "height": null,
            "justify_content": null,
            "justify_items": null,
            "left": null,
            "margin": null,
            "max_height": null,
            "max_width": null,
            "min_height": null,
            "min_width": null,
            "object_fit": null,
            "object_position": null,
            "order": null,
            "overflow": null,
            "overflow_x": null,
            "overflow_y": null,
            "padding": null,
            "right": null,
            "top": null,
            "visibility": "hidden",
            "width": "100%"
          }
        },
        "fd0f9af556334fe68e11d369e176b7c8": {
          "model_module": "@jupyter-widgets/base",
          "model_module_version": "1.2.0",
          "model_name": "LayoutModel",
          "state": {
            "_model_module": "@jupyter-widgets/base",
            "_model_module_version": "1.2.0",
            "_model_name": "LayoutModel",
            "_view_count": null,
            "_view_module": "@jupyter-widgets/base",
            "_view_module_version": "1.2.0",
            "_view_name": "LayoutView",
            "align_content": null,
            "align_items": null,
            "align_self": null,
            "border": null,
            "bottom": null,
            "display": null,
            "flex": null,
            "flex_flow": null,
            "grid_area": null,
            "grid_auto_columns": null,
            "grid_auto_flow": null,
            "grid_auto_rows": null,
            "grid_column": null,
            "grid_gap": null,
            "grid_row": null,
            "grid_template_areas": null,
            "grid_template_columns": null,
            "grid_template_rows": null,
            "height": null,
            "justify_content": null,
            "justify_items": null,
            "left": null,
            "margin": null,
            "max_height": null,
            "max_width": null,
            "min_height": null,
            "min_width": null,
            "object_fit": null,
            "object_position": null,
            "order": null,
            "overflow": null,
            "overflow_x": null,
            "overflow_y": null,
            "padding": null,
            "right": null,
            "top": null,
            "visibility": null,
            "width": null
          }
        },
        "fe5b08f389584fd8868a8042c0f057ae": {
          "model_module": "@jupyter-widgets/base",
          "model_module_version": "1.2.0",
          "model_name": "LayoutModel",
          "state": {
            "_model_module": "@jupyter-widgets/base",
            "_model_module_version": "1.2.0",
            "_model_name": "LayoutModel",
            "_view_count": null,
            "_view_module": "@jupyter-widgets/base",
            "_view_module_version": "1.2.0",
            "_view_name": "LayoutView",
            "align_content": null,
            "align_items": null,
            "align_self": null,
            "border": null,
            "bottom": null,
            "display": null,
            "flex": null,
            "flex_flow": null,
            "grid_area": null,
            "grid_auto_columns": null,
            "grid_auto_flow": null,
            "grid_auto_rows": null,
            "grid_column": null,
            "grid_gap": null,
            "grid_row": null,
            "grid_template_areas": null,
            "grid_template_columns": null,
            "grid_template_rows": null,
            "height": null,
            "justify_content": null,
            "justify_items": null,
            "left": null,
            "margin": null,
            "max_height": null,
            "max_width": null,
            "min_height": null,
            "min_width": null,
            "object_fit": null,
            "object_position": null,
            "order": null,
            "overflow": null,
            "overflow_x": null,
            "overflow_y": null,
            "padding": null,
            "right": null,
            "top": null,
            "visibility": null,
            "width": null
          }
        },
        "ff8796fd641e40a79c179719f1f29e7b": {
          "model_module": "@jupyter-widgets/base",
          "model_module_version": "1.2.0",
          "model_name": "LayoutModel",
          "state": {
            "_model_module": "@jupyter-widgets/base",
            "_model_module_version": "1.2.0",
            "_model_name": "LayoutModel",
            "_view_count": null,
            "_view_module": "@jupyter-widgets/base",
            "_view_module_version": "1.2.0",
            "_view_name": "LayoutView",
            "align_content": null,
            "align_items": null,
            "align_self": null,
            "border": null,
            "bottom": null,
            "display": "inline-flex",
            "flex": null,
            "flex_flow": "row wrap",
            "grid_area": null,
            "grid_auto_columns": null,
            "grid_auto_flow": null,
            "grid_auto_rows": null,
            "grid_column": null,
            "grid_gap": null,
            "grid_row": null,
            "grid_template_areas": null,
            "grid_template_columns": null,
            "grid_template_rows": null,
            "height": null,
            "justify_content": null,
            "justify_items": null,
            "left": null,
            "margin": null,
            "max_height": null,
            "max_width": null,
            "min_height": null,
            "min_width": null,
            "object_fit": null,
            "object_position": null,
            "order": null,
            "overflow": null,
            "overflow_x": null,
            "overflow_y": null,
            "padding": null,
            "right": null,
            "top": null,
            "visibility": "hidden",
            "width": "100%"
          }
        }
      }
    }
  },
  "nbformat": 4,
  "nbformat_minor": 0
}
